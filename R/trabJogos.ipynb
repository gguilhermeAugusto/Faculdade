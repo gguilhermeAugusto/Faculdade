{
  "nbformat": 4,
  "nbformat_minor": 0,
  "metadata": {
    "colab": {
      "provenance": [],
      "collapsed_sections": []
    },
    "kernelspec": {
      "name": "ir",
      "display_name": "R"
    },
    "language_info": {
      "name": "R"
    }
  },
  "cells": [
    {
      "cell_type": "code",
      "execution_count": 47,
      "metadata": {
        "id": "3f0NM0ueVjlR"
      },
      "outputs": [],
      "source": [
        "jogos<- read.csv(\"jogosUTF8.csv\")"
      ]
    },
    {
      "cell_type": "code",
      "source": [
        "head(jogos)"
      ],
      "metadata": {
        "colab": {
          "base_uri": "https://localhost:8080/",
          "height": 286
        },
        "id": "aEVyk2VQVwv0",
        "outputId": "2b48be07-22bf-4a67-f88f-6a54f43097e3"
      },
      "execution_count": 48,
      "outputs": [
        {
          "output_type": "display_data",
          "data": {
            "text/html": [
              "<table class=\"dataframe\">\n",
              "<caption>A data.frame: 6 × 10</caption>\n",
              "<thead>\n",
              "\t<tr><th></th><th scope=col>Nome</th><th scope=col>Plataforma</th><th scope=col>Ano</th><th scope=col>Genero</th><th scope=col>Fabricante</th><th scope=col>Vendas_EUA</th><th scope=col>Vendas_Europa</th><th scope=col>Vendas_Japao</th><th scope=col>Vendas_Outros</th><th scope=col>Venda_Global</th></tr>\n",
              "\t<tr><th></th><th scope=col>&lt;chr&gt;</th><th scope=col>&lt;chr&gt;</th><th scope=col>&lt;chr&gt;</th><th scope=col>&lt;chr&gt;</th><th scope=col>&lt;chr&gt;</th><th scope=col>&lt;dbl&gt;</th><th scope=col>&lt;dbl&gt;</th><th scope=col>&lt;dbl&gt;</th><th scope=col>&lt;dbl&gt;</th><th scope=col>&lt;dbl&gt;</th></tr>\n",
              "</thead>\n",
              "<tbody>\n",
              "\t<tr><th scope=row>1</th><td>Wii Sports              </td><td>Wii</td><td>2006</td><td>Esportes    </td><td>Nintendo</td><td>41.49</td><td>29.02</td><td> 3.77</td><td>8.46</td><td>82.74</td></tr>\n",
              "\t<tr><th scope=row>2</th><td>Super Mario Bros.       </td><td>NES</td><td>1985</td><td>Plataforma  </td><td>Nintendo</td><td>29.08</td><td> 3.58</td><td> 6.81</td><td>0.77</td><td>40.24</td></tr>\n",
              "\t<tr><th scope=row>3</th><td>Mario Kart Wii          </td><td>Wii</td><td>2008</td><td>Corrida     </td><td>Nintendo</td><td>15.85</td><td>12.88</td><td> 3.79</td><td>3.31</td><td>35.82</td></tr>\n",
              "\t<tr><th scope=row>4</th><td>Wii Sports Resort       </td><td>Wii</td><td>2009</td><td>Esportes    </td><td>Nintendo</td><td>15.75</td><td>11.01</td><td> 3.28</td><td>2.96</td><td>33.00</td></tr>\n",
              "\t<tr><th scope=row>5</th><td>Pokemon Red/Pokemon Blue</td><td>GB </td><td>1996</td><td>Role-Playing</td><td>Nintendo</td><td>11.27</td><td> 8.89</td><td>10.22</td><td>1.00</td><td>31.37</td></tr>\n",
              "\t<tr><th scope=row>6</th><td>Tetris                  </td><td>GB </td><td>1989</td><td>Puzzle      </td><td>Nintendo</td><td>23.20</td><td> 2.26</td><td> 4.22</td><td>0.58</td><td>30.26</td></tr>\n",
              "</tbody>\n",
              "</table>\n"
            ],
            "text/markdown": "\nA data.frame: 6 × 10\n\n| <!--/--> | Nome &lt;chr&gt; | Plataforma &lt;chr&gt; | Ano &lt;chr&gt; | Genero &lt;chr&gt; | Fabricante &lt;chr&gt; | Vendas_EUA &lt;dbl&gt; | Vendas_Europa &lt;dbl&gt; | Vendas_Japao &lt;dbl&gt; | Vendas_Outros &lt;dbl&gt; | Venda_Global &lt;dbl&gt; |\n|---|---|---|---|---|---|---|---|---|---|---|\n| 1 | Wii Sports               | Wii | 2006 | Esportes     | Nintendo | 41.49 | 29.02 |  3.77 | 8.46 | 82.74 |\n| 2 | Super Mario Bros.        | NES | 1985 | Plataforma   | Nintendo | 29.08 |  3.58 |  6.81 | 0.77 | 40.24 |\n| 3 | Mario Kart Wii           | Wii | 2008 | Corrida      | Nintendo | 15.85 | 12.88 |  3.79 | 3.31 | 35.82 |\n| 4 | Wii Sports Resort        | Wii | 2009 | Esportes     | Nintendo | 15.75 | 11.01 |  3.28 | 2.96 | 33.00 |\n| 5 | Pokemon Red/Pokemon Blue | GB  | 1996 | Role-Playing | Nintendo | 11.27 |  8.89 | 10.22 | 1.00 | 31.37 |\n| 6 | Tetris                   | GB  | 1989 | Puzzle       | Nintendo | 23.20 |  2.26 |  4.22 | 0.58 | 30.26 |\n\n",
            "text/latex": "A data.frame: 6 × 10\n\\begin{tabular}{r|llllllllll}\n  & Nome & Plataforma & Ano & Genero & Fabricante & Vendas\\_EUA & Vendas\\_Europa & Vendas\\_Japao & Vendas\\_Outros & Venda\\_Global\\\\\n  & <chr> & <chr> & <chr> & <chr> & <chr> & <dbl> & <dbl> & <dbl> & <dbl> & <dbl>\\\\\n\\hline\n\t1 & Wii Sports               & Wii & 2006 & Esportes     & Nintendo & 41.49 & 29.02 &  3.77 & 8.46 & 82.74\\\\\n\t2 & Super Mario Bros.        & NES & 1985 & Plataforma   & Nintendo & 29.08 &  3.58 &  6.81 & 0.77 & 40.24\\\\\n\t3 & Mario Kart Wii           & Wii & 2008 & Corrida      & Nintendo & 15.85 & 12.88 &  3.79 & 3.31 & 35.82\\\\\n\t4 & Wii Sports Resort        & Wii & 2009 & Esportes     & Nintendo & 15.75 & 11.01 &  3.28 & 2.96 & 33.00\\\\\n\t5 & Pokemon Red/Pokemon Blue & GB  & 1996 & Role-Playing & Nintendo & 11.27 &  8.89 & 10.22 & 1.00 & 31.37\\\\\n\t6 & Tetris                   & GB  & 1989 & Puzzle       & Nintendo & 23.20 &  2.26 &  4.22 & 0.58 & 30.26\\\\\n\\end{tabular}\n",
            "text/plain": [
              "  Nome                     Plataforma Ano  Genero       Fabricante Vendas_EUA\n",
              "1 Wii Sports               Wii        2006 Esportes     Nintendo   41.49     \n",
              "2 Super Mario Bros.        NES        1985 Plataforma   Nintendo   29.08     \n",
              "3 Mario Kart Wii           Wii        2008 Corrida      Nintendo   15.85     \n",
              "4 Wii Sports Resort        Wii        2009 Esportes     Nintendo   15.75     \n",
              "5 Pokemon Red/Pokemon Blue GB         1996 Role-Playing Nintendo   11.27     \n",
              "6 Tetris                   GB         1989 Puzzle       Nintendo   23.20     \n",
              "  Vendas_Europa Vendas_Japao Vendas_Outros Venda_Global\n",
              "1 29.02          3.77        8.46          82.74       \n",
              "2  3.58          6.81        0.77          40.24       \n",
              "3 12.88          3.79        3.31          35.82       \n",
              "4 11.01          3.28        2.96          33.00       \n",
              "5  8.89         10.22        1.00          31.37       \n",
              "6  2.26          4.22        0.58          30.26       "
            ]
          },
          "metadata": {}
        }
      ]
    },
    {
      "cell_type": "code",
      "source": [
        "library(dplyr)"
      ],
      "metadata": {
        "id": "IngKJtrkVx87"
      },
      "execution_count": 49,
      "outputs": []
    },
    {
      "cell_type": "code",
      "source": [
        "#Sys.setlocale('LC_ALL','C')"
      ],
      "metadata": {
        "id": "Q-CC3mi_Vzjp"
      },
      "execution_count": 50,
      "outputs": []
    },
    {
      "cell_type": "code",
      "source": [
        "#Ex 1"
      ],
      "metadata": {
        "id": "b2_xV1yLV1VN"
      },
      "execution_count": 51,
      "outputs": []
    },
    {
      "cell_type": "code",
      "source": [
        "global<- jogos%>%select(Nome,Venda_Global)"
      ],
      "metadata": {
        "id": "rITZkTMsV3qu"
      },
      "execution_count": 52,
      "outputs": []
    },
    {
      "cell_type": "code",
      "source": [
        "global"
      ],
      "metadata": {
        "colab": {
          "base_uri": "https://localhost:8080/",
          "height": 1000
        },
        "id": "s_Tjw4v9V5xb",
        "outputId": "521b6042-058d-459a-9533-ba2b577ee0a2"
      },
      "execution_count": 53,
      "outputs": [
        {
          "output_type": "display_data",
          "data": {
            "text/html": [
              "<table class=\"dataframe\">\n",
              "<caption>A data.frame: 16572 × 2</caption>\n",
              "<thead>\n",
              "\t<tr><th scope=col>Nome</th><th scope=col>Venda_Global</th></tr>\n",
              "\t<tr><th scope=col>&lt;chr&gt;</th><th scope=col>&lt;dbl&gt;</th></tr>\n",
              "</thead>\n",
              "<tbody>\n",
              "\t<tr><td>Wii Sports                                  </td><td>82.74</td></tr>\n",
              "\t<tr><td>Super Mario Bros.                           </td><td>40.24</td></tr>\n",
              "\t<tr><td>Mario Kart Wii                              </td><td>35.82</td></tr>\n",
              "\t<tr><td>Wii Sports Resort                           </td><td>33.00</td></tr>\n",
              "\t<tr><td>Pokemon Red/Pokemon Blue                    </td><td>31.37</td></tr>\n",
              "\t<tr><td>Tetris                                      </td><td>30.26</td></tr>\n",
              "\t<tr><td>New Super Mario Bros.                       </td><td>30.01</td></tr>\n",
              "\t<tr><td>Wii Play                                    </td><td>29.02</td></tr>\n",
              "\t<tr><td>New Super Mario Bros. Wii                   </td><td>28.62</td></tr>\n",
              "\t<tr><td>Duck Hunt                                   </td><td>28.31</td></tr>\n",
              "\t<tr><td>Nintendogs                                  </td><td>24.76</td></tr>\n",
              "\t<tr><td>Mario Kart DS                               </td><td>23.42</td></tr>\n",
              "\t<tr><td>Pokemon Gold/Pokemon Silver                 </td><td>23.10</td></tr>\n",
              "\t<tr><td>Wii Fit                                     </td><td>22.72</td></tr>\n",
              "\t<tr><td>Wii Fit Plus                                </td><td>22.00</td></tr>\n",
              "\t<tr><td>Kinect Adventures!                          </td><td>21.82</td></tr>\n",
              "\t<tr><td>Grand Theft Auto V                          </td><td>21.40</td></tr>\n",
              "\t<tr><td>Grand Theft Auto: San Andreas               </td><td>20.81</td></tr>\n",
              "\t<tr><td>Super Mario World                           </td><td>20.61</td></tr>\n",
              "\t<tr><td>Brain Age: Train Your Brain in Minutes a Day</td><td>20.22</td></tr>\n",
              "\t<tr><td>Pokemon Diamond/Pokemon Pearl               </td><td>18.36</td></tr>\n",
              "\t<tr><td>Super Mario Land                            </td><td>18.14</td></tr>\n",
              "\t<tr><td>Super Mario Bros. 3                         </td><td>17.28</td></tr>\n",
              "\t<tr><td>Grand Theft Auto V                          </td><td>16.38</td></tr>\n",
              "\t<tr><td>Grand Theft Auto: Vice City                 </td><td>16.15</td></tr>\n",
              "\t<tr><td>Pokemon Ruby/Pokemon Sapphire               </td><td>15.85</td></tr>\n",
              "\t<tr><td>Pokemon Black/Pokemon White                 </td><td>15.32</td></tr>\n",
              "\t<tr><td>Brain Age 2: More Training in Minutes a Day </td><td>15.30</td></tr>\n",
              "\t<tr><td>Gran Turismo 3: A-Spec                      </td><td>14.98</td></tr>\n",
              "\t<tr><td>Call of Duty: Modern Warfare 3              </td><td>14.76</td></tr>\n",
              "\t<tr><td>⋮</td><td>⋮</td></tr>\n",
              "\t<tr><td>XI Coliseum                                                </td><td>0.01</td></tr>\n",
              "\t<tr><td>Resident Evil 4 HD                                         </td><td>0.01</td></tr>\n",
              "\t<tr><td>Farming 2017 - The Simulation                              </td><td>0.01</td></tr>\n",
              "\t<tr><td>Grisaia no Kajitsu: La Fruit de la Grisaia                 </td><td>0.01</td></tr>\n",
              "\t<tr><td>Scarlett: Nichijou no Kyoukaisen                           </td><td>0.01</td></tr>\n",
              "\t<tr><td>Mini Desktop Racing                                        </td><td>0.01</td></tr>\n",
              "\t<tr><td>Yattaman Wii: BikkuriDokkiri Machine de Mou Race da Koron  </td><td>0.01</td></tr>\n",
              "\t<tr><td>Neo Angelique Special                                      </td><td>0.01</td></tr>\n",
              "\t<tr><td>Rugby Challenge 3                                          </td><td>0.01</td></tr>\n",
              "\t<tr><td>Damnation                                                  </td><td>0.01</td></tr>\n",
              "\t<tr><td>Outdoors Unleashed: Africa 3D                              </td><td>0.01</td></tr>\n",
              "\t<tr><td>PGA European Tour                                          </td><td>0.01</td></tr>\n",
              "\t<tr><td>Real Rode                                                  </td><td>0.01</td></tr>\n",
              "\t<tr><td><span style=white-space:pre-wrap>Fit &amp; Fun                                                  </span></td><td>0.01</td></tr>\n",
              "\t<tr><td>Planet Monsters                                            </td><td>0.01</td></tr>\n",
              "\t<tr><td>Carmageddon 64                                             </td><td>0.01</td></tr>\n",
              "\t<tr><td>Bust-A-Move 3000                                           </td><td>0.01</td></tr>\n",
              "\t<tr><td>Breach                                                     </td><td>0.01</td></tr>\n",
              "\t<tr><td>Secret Files 2: Puritas Cordis                             </td><td>0.01</td></tr>\n",
              "\t<tr><td>Mezase!! Tsuri Master DS                                   </td><td>0.01</td></tr>\n",
              "\t<tr><td>Mega Brain Boost                                           </td><td>0.01</td></tr>\n",
              "\t<tr><td>Chou Ezaru wa Akai Hana: Koi wa Tsuki ni Shirube Kareru    </td><td>0.01</td></tr>\n",
              "\t<tr><td>Eiyuu Densetsu: Sora no Kiseki Material Collection Portable</td><td>0.01</td></tr>\n",
              "\t<tr><td>Myst IV: Revelation                                        </td><td>0.01</td></tr>\n",
              "\t<tr><td>Plushees                                                   </td><td>0.01</td></tr>\n",
              "\t<tr><td>Woody Woodpecker in Crazy Castle 5                         </td><td>0.01</td></tr>\n",
              "\t<tr><td>Men in Black II: Alien Escape                              </td><td>0.01</td></tr>\n",
              "\t<tr><td>SCORE International Baja 1000: The Official Game           </td><td>0.01</td></tr>\n",
              "\t<tr><td>Know How 2                                                 </td><td>0.01</td></tr>\n",
              "\t<tr><td><span style=white-space:pre-wrap>Spirits &amp; Spells                                           </span></td><td>0.01</td></tr>\n",
              "</tbody>\n",
              "</table>\n"
            ],
            "text/markdown": "\nA data.frame: 16572 × 2\n\n| Nome &lt;chr&gt; | Venda_Global &lt;dbl&gt; |\n|---|---|\n| Wii Sports                                   | 82.74 |\n| Super Mario Bros.                            | 40.24 |\n| Mario Kart Wii                               | 35.82 |\n| Wii Sports Resort                            | 33.00 |\n| Pokemon Red/Pokemon Blue                     | 31.37 |\n| Tetris                                       | 30.26 |\n| New Super Mario Bros.                        | 30.01 |\n| Wii Play                                     | 29.02 |\n| New Super Mario Bros. Wii                    | 28.62 |\n| Duck Hunt                                    | 28.31 |\n| Nintendogs                                   | 24.76 |\n| Mario Kart DS                                | 23.42 |\n| Pokemon Gold/Pokemon Silver                  | 23.10 |\n| Wii Fit                                      | 22.72 |\n| Wii Fit Plus                                 | 22.00 |\n| Kinect Adventures!                           | 21.82 |\n| Grand Theft Auto V                           | 21.40 |\n| Grand Theft Auto: San Andreas                | 20.81 |\n| Super Mario World                            | 20.61 |\n| Brain Age: Train Your Brain in Minutes a Day | 20.22 |\n| Pokemon Diamond/Pokemon Pearl                | 18.36 |\n| Super Mario Land                             | 18.14 |\n| Super Mario Bros. 3                          | 17.28 |\n| Grand Theft Auto V                           | 16.38 |\n| Grand Theft Auto: Vice City                  | 16.15 |\n| Pokemon Ruby/Pokemon Sapphire                | 15.85 |\n| Pokemon Black/Pokemon White                  | 15.32 |\n| Brain Age 2: More Training in Minutes a Day  | 15.30 |\n| Gran Turismo 3: A-Spec                       | 14.98 |\n| Call of Duty: Modern Warfare 3               | 14.76 |\n| ⋮ | ⋮ |\n| XI Coliseum                                                 | 0.01 |\n| Resident Evil 4 HD                                          | 0.01 |\n| Farming 2017 - The Simulation                               | 0.01 |\n| Grisaia no Kajitsu: La Fruit de la Grisaia                  | 0.01 |\n| Scarlett: Nichijou no Kyoukaisen                            | 0.01 |\n| Mini Desktop Racing                                         | 0.01 |\n| Yattaman Wii: BikkuriDokkiri Machine de Mou Race da Koron   | 0.01 |\n| Neo Angelique Special                                       | 0.01 |\n| Rugby Challenge 3                                           | 0.01 |\n| Damnation                                                   | 0.01 |\n| Outdoors Unleashed: Africa 3D                               | 0.01 |\n| PGA European Tour                                           | 0.01 |\n| Real Rode                                                   | 0.01 |\n| Fit &amp; Fun                                                   | 0.01 |\n| Planet Monsters                                             | 0.01 |\n| Carmageddon 64                                              | 0.01 |\n| Bust-A-Move 3000                                            | 0.01 |\n| Breach                                                      | 0.01 |\n| Secret Files 2: Puritas Cordis                              | 0.01 |\n| Mezase!! Tsuri Master DS                                    | 0.01 |\n| Mega Brain Boost                                            | 0.01 |\n| Chou Ezaru wa Akai Hana: Koi wa Tsuki ni Shirube Kareru     | 0.01 |\n| Eiyuu Densetsu: Sora no Kiseki Material Collection Portable | 0.01 |\n| Myst IV: Revelation                                         | 0.01 |\n| Plushees                                                    | 0.01 |\n| Woody Woodpecker in Crazy Castle 5                          | 0.01 |\n| Men in Black II: Alien Escape                               | 0.01 |\n| SCORE International Baja 1000: The Official Game            | 0.01 |\n| Know How 2                                                  | 0.01 |\n| Spirits &amp; Spells                                            | 0.01 |\n\n",
            "text/latex": "A data.frame: 16572 × 2\n\\begin{tabular}{ll}\n Nome & Venda\\_Global\\\\\n <chr> & <dbl>\\\\\n\\hline\n\t Wii Sports                                   & 82.74\\\\\n\t Super Mario Bros.                            & 40.24\\\\\n\t Mario Kart Wii                               & 35.82\\\\\n\t Wii Sports Resort                            & 33.00\\\\\n\t Pokemon Red/Pokemon Blue                     & 31.37\\\\\n\t Tetris                                       & 30.26\\\\\n\t New Super Mario Bros.                        & 30.01\\\\\n\t Wii Play                                     & 29.02\\\\\n\t New Super Mario Bros. Wii                    & 28.62\\\\\n\t Duck Hunt                                    & 28.31\\\\\n\t Nintendogs                                   & 24.76\\\\\n\t Mario Kart DS                                & 23.42\\\\\n\t Pokemon Gold/Pokemon Silver                  & 23.10\\\\\n\t Wii Fit                                      & 22.72\\\\\n\t Wii Fit Plus                                 & 22.00\\\\\n\t Kinect Adventures!                           & 21.82\\\\\n\t Grand Theft Auto V                           & 21.40\\\\\n\t Grand Theft Auto: San Andreas                & 20.81\\\\\n\t Super Mario World                            & 20.61\\\\\n\t Brain Age: Train Your Brain in Minutes a Day & 20.22\\\\\n\t Pokemon Diamond/Pokemon Pearl                & 18.36\\\\\n\t Super Mario Land                             & 18.14\\\\\n\t Super Mario Bros. 3                          & 17.28\\\\\n\t Grand Theft Auto V                           & 16.38\\\\\n\t Grand Theft Auto: Vice City                  & 16.15\\\\\n\t Pokemon Ruby/Pokemon Sapphire                & 15.85\\\\\n\t Pokemon Black/Pokemon White                  & 15.32\\\\\n\t Brain Age 2: More Training in Minutes a Day  & 15.30\\\\\n\t Gran Turismo 3: A-Spec                       & 14.98\\\\\n\t Call of Duty: Modern Warfare 3               & 14.76\\\\\n\t ⋮ & ⋮\\\\\n\t XI Coliseum                                                 & 0.01\\\\\n\t Resident Evil 4 HD                                          & 0.01\\\\\n\t Farming 2017 - The Simulation                               & 0.01\\\\\n\t Grisaia no Kajitsu: La Fruit de la Grisaia                  & 0.01\\\\\n\t Scarlett: Nichijou no Kyoukaisen                            & 0.01\\\\\n\t Mini Desktop Racing                                         & 0.01\\\\\n\t Yattaman Wii: BikkuriDokkiri Machine de Mou Race da Koron   & 0.01\\\\\n\t Neo Angelique Special                                       & 0.01\\\\\n\t Rugby Challenge 3                                           & 0.01\\\\\n\t Damnation                                                   & 0.01\\\\\n\t Outdoors Unleashed: Africa 3D                               & 0.01\\\\\n\t PGA European Tour                                           & 0.01\\\\\n\t Real Rode                                                   & 0.01\\\\\n\t Fit \\& Fun                                                   & 0.01\\\\\n\t Planet Monsters                                             & 0.01\\\\\n\t Carmageddon 64                                              & 0.01\\\\\n\t Bust-A-Move 3000                                            & 0.01\\\\\n\t Breach                                                      & 0.01\\\\\n\t Secret Files 2: Puritas Cordis                              & 0.01\\\\\n\t Mezase!! Tsuri Master DS                                    & 0.01\\\\\n\t Mega Brain Boost                                            & 0.01\\\\\n\t Chou Ezaru wa Akai Hana: Koi wa Tsuki ni Shirube Kareru     & 0.01\\\\\n\t Eiyuu Densetsu: Sora no Kiseki Material Collection Portable & 0.01\\\\\n\t Myst IV: Revelation                                         & 0.01\\\\\n\t Plushees                                                    & 0.01\\\\\n\t Woody Woodpecker in Crazy Castle 5                          & 0.01\\\\\n\t Men in Black II: Alien Escape                               & 0.01\\\\\n\t SCORE International Baja 1000: The Official Game            & 0.01\\\\\n\t Know How 2                                                  & 0.01\\\\\n\t Spirits \\& Spells                                            & 0.01\\\\\n\\end{tabular}\n",
            "text/plain": [
              "      Nome                                                        Venda_Global\n",
              "1     Wii Sports                                                  82.74       \n",
              "2     Super Mario Bros.                                           40.24       \n",
              "3     Mario Kart Wii                                              35.82       \n",
              "4     Wii Sports Resort                                           33.00       \n",
              "5     Pokemon Red/Pokemon Blue                                    31.37       \n",
              "6     Tetris                                                      30.26       \n",
              "7     New Super Mario Bros.                                       30.01       \n",
              "8     Wii Play                                                    29.02       \n",
              "9     New Super Mario Bros. Wii                                   28.62       \n",
              "10    Duck Hunt                                                   28.31       \n",
              "11    Nintendogs                                                  24.76       \n",
              "12    Mario Kart DS                                               23.42       \n",
              "13    Pokemon Gold/Pokemon Silver                                 23.10       \n",
              "14    Wii Fit                                                     22.72       \n",
              "15    Wii Fit Plus                                                22.00       \n",
              "16    Kinect Adventures!                                          21.82       \n",
              "17    Grand Theft Auto V                                          21.40       \n",
              "18    Grand Theft Auto: San Andreas                               20.81       \n",
              "19    Super Mario World                                           20.61       \n",
              "20    Brain Age: Train Your Brain in Minutes a Day                20.22       \n",
              "21    Pokemon Diamond/Pokemon Pearl                               18.36       \n",
              "22    Super Mario Land                                            18.14       \n",
              "23    Super Mario Bros. 3                                         17.28       \n",
              "24    Grand Theft Auto V                                          16.38       \n",
              "25    Grand Theft Auto: Vice City                                 16.15       \n",
              "26    Pokemon Ruby/Pokemon Sapphire                               15.85       \n",
              "27    Pokemon Black/Pokemon White                                 15.32       \n",
              "28    Brain Age 2: More Training in Minutes a Day                 15.30       \n",
              "29    Gran Turismo 3: A-Spec                                      14.98       \n",
              "30    Call of Duty: Modern Warfare 3                              14.76       \n",
              "⋮     ⋮                                                           ⋮           \n",
              "16543 XI Coliseum                                                 0.01        \n",
              "16544 Resident Evil 4 HD                                          0.01        \n",
              "16545 Farming 2017 - The Simulation                               0.01        \n",
              "16546 Grisaia no Kajitsu: La Fruit de la Grisaia                  0.01        \n",
              "16547 Scarlett: Nichijou no Kyoukaisen                            0.01        \n",
              "16548 Mini Desktop Racing                                         0.01        \n",
              "16549 Yattaman Wii: BikkuriDokkiri Machine de Mou Race da Koron   0.01        \n",
              "16550 Neo Angelique Special                                       0.01        \n",
              "16551 Rugby Challenge 3                                           0.01        \n",
              "16552 Damnation                                                   0.01        \n",
              "16553 Outdoors Unleashed: Africa 3D                               0.01        \n",
              "16554 PGA European Tour                                           0.01        \n",
              "16555 Real Rode                                                   0.01        \n",
              "16556 Fit & Fun                                                   0.01        \n",
              "16557 Planet Monsters                                             0.01        \n",
              "16558 Carmageddon 64                                              0.01        \n",
              "16559 Bust-A-Move 3000                                            0.01        \n",
              "16560 Breach                                                      0.01        \n",
              "16561 Secret Files 2: Puritas Cordis                              0.01        \n",
              "16562 Mezase!! Tsuri Master DS                                    0.01        \n",
              "16563 Mega Brain Boost                                            0.01        \n",
              "16564 Chou Ezaru wa Akai Hana: Koi wa Tsuki ni Shirube Kareru     0.01        \n",
              "16565 Eiyuu Densetsu: Sora no Kiseki Material Collection Portable 0.01        \n",
              "16566 Myst IV: Revelation                                         0.01        \n",
              "16567 Plushees                                                    0.01        \n",
              "16568 Woody Woodpecker in Crazy Castle 5                          0.01        \n",
              "16569 Men in Black II: Alien Escape                               0.01        \n",
              "16570 SCORE International Baja 1000: The Official Game            0.01        \n",
              "16571 Know How 2                                                  0.01        \n",
              "16572 Spirits & Spells                                            0.01        "
            ]
          },
          "metadata": {}
        }
      ]
    },
    {
      "cell_type": "code",
      "source": [
        "filter(global,Venda_Global>20)"
      ],
      "metadata": {
        "colab": {
          "base_uri": "https://localhost:8080/",
          "height": 725
        },
        "id": "U2fsav1RV7Ia",
        "outputId": "e1df9f57-1dec-49a7-ea1a-7ca6414e8999"
      },
      "execution_count": 54,
      "outputs": [
        {
          "output_type": "display_data",
          "data": {
            "text/html": [
              "<table class=\"dataframe\">\n",
              "<caption>A data.frame: 20 × 2</caption>\n",
              "<thead>\n",
              "\t<tr><th scope=col>Nome</th><th scope=col>Venda_Global</th></tr>\n",
              "\t<tr><th scope=col>&lt;chr&gt;</th><th scope=col>&lt;dbl&gt;</th></tr>\n",
              "</thead>\n",
              "<tbody>\n",
              "\t<tr><td>Wii Sports                                  </td><td>82.74</td></tr>\n",
              "\t<tr><td>Super Mario Bros.                           </td><td>40.24</td></tr>\n",
              "\t<tr><td>Mario Kart Wii                              </td><td>35.82</td></tr>\n",
              "\t<tr><td>Wii Sports Resort                           </td><td>33.00</td></tr>\n",
              "\t<tr><td>Pokemon Red/Pokemon Blue                    </td><td>31.37</td></tr>\n",
              "\t<tr><td>Tetris                                      </td><td>30.26</td></tr>\n",
              "\t<tr><td>New Super Mario Bros.                       </td><td>30.01</td></tr>\n",
              "\t<tr><td>Wii Play                                    </td><td>29.02</td></tr>\n",
              "\t<tr><td>New Super Mario Bros. Wii                   </td><td>28.62</td></tr>\n",
              "\t<tr><td>Duck Hunt                                   </td><td>28.31</td></tr>\n",
              "\t<tr><td>Nintendogs                                  </td><td>24.76</td></tr>\n",
              "\t<tr><td>Mario Kart DS                               </td><td>23.42</td></tr>\n",
              "\t<tr><td>Pokemon Gold/Pokemon Silver                 </td><td>23.10</td></tr>\n",
              "\t<tr><td>Wii Fit                                     </td><td>22.72</td></tr>\n",
              "\t<tr><td>Wii Fit Plus                                </td><td>22.00</td></tr>\n",
              "\t<tr><td>Kinect Adventures!                          </td><td>21.82</td></tr>\n",
              "\t<tr><td>Grand Theft Auto V                          </td><td>21.40</td></tr>\n",
              "\t<tr><td>Grand Theft Auto: San Andreas               </td><td>20.81</td></tr>\n",
              "\t<tr><td>Super Mario World                           </td><td>20.61</td></tr>\n",
              "\t<tr><td>Brain Age: Train Your Brain in Minutes a Day</td><td>20.22</td></tr>\n",
              "</tbody>\n",
              "</table>\n"
            ],
            "text/markdown": "\nA data.frame: 20 × 2\n\n| Nome &lt;chr&gt; | Venda_Global &lt;dbl&gt; |\n|---|---|\n| Wii Sports                                   | 82.74 |\n| Super Mario Bros.                            | 40.24 |\n| Mario Kart Wii                               | 35.82 |\n| Wii Sports Resort                            | 33.00 |\n| Pokemon Red/Pokemon Blue                     | 31.37 |\n| Tetris                                       | 30.26 |\n| New Super Mario Bros.                        | 30.01 |\n| Wii Play                                     | 29.02 |\n| New Super Mario Bros. Wii                    | 28.62 |\n| Duck Hunt                                    | 28.31 |\n| Nintendogs                                   | 24.76 |\n| Mario Kart DS                                | 23.42 |\n| Pokemon Gold/Pokemon Silver                  | 23.10 |\n| Wii Fit                                      | 22.72 |\n| Wii Fit Plus                                 | 22.00 |\n| Kinect Adventures!                           | 21.82 |\n| Grand Theft Auto V                           | 21.40 |\n| Grand Theft Auto: San Andreas                | 20.81 |\n| Super Mario World                            | 20.61 |\n| Brain Age: Train Your Brain in Minutes a Day | 20.22 |\n\n",
            "text/latex": "A data.frame: 20 × 2\n\\begin{tabular}{ll}\n Nome & Venda\\_Global\\\\\n <chr> & <dbl>\\\\\n\\hline\n\t Wii Sports                                   & 82.74\\\\\n\t Super Mario Bros.                            & 40.24\\\\\n\t Mario Kart Wii                               & 35.82\\\\\n\t Wii Sports Resort                            & 33.00\\\\\n\t Pokemon Red/Pokemon Blue                     & 31.37\\\\\n\t Tetris                                       & 30.26\\\\\n\t New Super Mario Bros.                        & 30.01\\\\\n\t Wii Play                                     & 29.02\\\\\n\t New Super Mario Bros. Wii                    & 28.62\\\\\n\t Duck Hunt                                    & 28.31\\\\\n\t Nintendogs                                   & 24.76\\\\\n\t Mario Kart DS                                & 23.42\\\\\n\t Pokemon Gold/Pokemon Silver                  & 23.10\\\\\n\t Wii Fit                                      & 22.72\\\\\n\t Wii Fit Plus                                 & 22.00\\\\\n\t Kinect Adventures!                           & 21.82\\\\\n\t Grand Theft Auto V                           & 21.40\\\\\n\t Grand Theft Auto: San Andreas                & 20.81\\\\\n\t Super Mario World                            & 20.61\\\\\n\t Brain Age: Train Your Brain in Minutes a Day & 20.22\\\\\n\\end{tabular}\n",
            "text/plain": [
              "   Nome                                         Venda_Global\n",
              "1  Wii Sports                                   82.74       \n",
              "2  Super Mario Bros.                            40.24       \n",
              "3  Mario Kart Wii                               35.82       \n",
              "4  Wii Sports Resort                            33.00       \n",
              "5  Pokemon Red/Pokemon Blue                     31.37       \n",
              "6  Tetris                                       30.26       \n",
              "7  New Super Mario Bros.                        30.01       \n",
              "8  Wii Play                                     29.02       \n",
              "9  New Super Mario Bros. Wii                    28.62       \n",
              "10 Duck Hunt                                    28.31       \n",
              "11 Nintendogs                                   24.76       \n",
              "12 Mario Kart DS                                23.42       \n",
              "13 Pokemon Gold/Pokemon Silver                  23.10       \n",
              "14 Wii Fit                                      22.72       \n",
              "15 Wii Fit Plus                                 22.00       \n",
              "16 Kinect Adventures!                           21.82       \n",
              "17 Grand Theft Auto V                           21.40       \n",
              "18 Grand Theft Auto: San Andreas                20.81       \n",
              "19 Super Mario World                            20.61       \n",
              "20 Brain Age: Train Your Brain in Minutes a Day 20.22       "
            ]
          },
          "metadata": {}
        }
      ]
    },
    {
      "cell_type": "code",
      "source": [
        "#FIM"
      ],
      "metadata": {
        "id": "re8-LSgoV98D"
      },
      "execution_count": 55,
      "outputs": []
    },
    {
      "cell_type": "code",
      "source": [
        "str(jogos)"
      ],
      "metadata": {
        "colab": {
          "base_uri": "https://localhost:8080/"
        },
        "id": "wJfgP4x-WBOx",
        "outputId": "7bdf4548-029d-4e06-9c7a-9ccdb33b87e5"
      },
      "execution_count": 56,
      "outputs": [
        {
          "output_type": "stream",
          "name": "stdout",
          "text": [
            "'data.frame':\t16572 obs. of  10 variables:\n",
            " $ Nome         : chr  \"Wii Sports\" \"Super Mario Bros.\" \"Mario Kart Wii\" \"Wii Sports Resort\" ...\n",
            " $ Plataforma   : chr  \"Wii\" \"NES\" \"Wii\" \"Wii\" ...\n",
            " $ Ano          : chr  \"2006\" \"1985\" \"2008\" \"2009\" ...\n",
            " $ Genero       : chr  \"Esportes\" \"Plataforma\" \"Corrida\" \"Esportes\" ...\n",
            " $ Fabricante   : chr  \"Nintendo\" \"Nintendo\" \"Nintendo\" \"Nintendo\" ...\n",
            " $ Vendas_EUA   : num  41.5 29.1 15.8 15.8 11.3 ...\n",
            " $ Vendas_Europa: num  29.02 3.58 12.88 11.01 8.89 ...\n",
            " $ Vendas_Japao : num  3.77 6.81 3.79 3.28 10.22 ...\n",
            " $ Vendas_Outros: num  8.46 0.77 3.31 2.96 1 0.58 2.9 2.85 2.26 0.47 ...\n",
            " $ Venda_Global : num  82.7 40.2 35.8 33 31.4 ...\n"
          ]
        }
      ]
    },
    {
      "cell_type": "code",
      "source": [
        "#Ex 2"
      ],
      "metadata": {
        "id": "LSDAphaUWCxv"
      },
      "execution_count": 57,
      "outputs": []
    },
    {
      "cell_type": "code",
      "source": [
        "Tipo<- jogos%>%select(Nome,Plataforma,Genero,Venda_Global)"
      ],
      "metadata": {
        "id": "mNj-_kXQWERC"
      },
      "execution_count": 58,
      "outputs": []
    },
    {
      "cell_type": "code",
      "source": [
        "esporte<-filter(Tipo,Genero==\"Esportes\")"
      ],
      "metadata": {
        "id": "Koe_Hm9xWFqk"
      },
      "execution_count": 59,
      "outputs": []
    },
    {
      "cell_type": "code",
      "source": [
        "esporte%>%arrange(desc(Venda_Global))"
      ],
      "metadata": {
        "colab": {
          "base_uri": "https://localhost:8080/",
          "height": 1000
        },
        "id": "0qMf5XQxhEif",
        "outputId": "dca70c68-0652-40c4-a444-8e7fc3dc3da1"
      },
      "execution_count": 60,
      "outputs": [
        {
          "output_type": "display_data",
          "data": {
            "text/html": [
              "<table class=\"dataframe\">\n",
              "<caption>A data.frame: 2346 × 4</caption>\n",
              "<thead>\n",
              "\t<tr><th scope=col>Nome</th><th scope=col>Plataforma</th><th scope=col>Genero</th><th scope=col>Venda_Global</th></tr>\n",
              "\t<tr><th scope=col>&lt;chr&gt;</th><th scope=col>&lt;chr&gt;</th><th scope=col>&lt;chr&gt;</th><th scope=col>&lt;dbl&gt;</th></tr>\n",
              "</thead>\n",
              "<tbody>\n",
              "\t<tr><td>Wii Sports                               </td><td>Wii </td><td>Esportes</td><td>82.74</td></tr>\n",
              "\t<tr><td>Wii Sports Resort                        </td><td>Wii </td><td>Esportes</td><td>33.00</td></tr>\n",
              "\t<tr><td>Wii Fit                                  </td><td>Wii </td><td>Esportes</td><td>22.72</td></tr>\n",
              "\t<tr><td>Wii Fit Plus                             </td><td>Wii </td><td>Esportes</td><td>22.00</td></tr>\n",
              "\t<tr><td>FIFA 16                                  </td><td>PS4 </td><td>Esportes</td><td> 8.49</td></tr>\n",
              "\t<tr><td><span style=white-space:pre-wrap>Mario &amp; Sonic at the Olympic Games       </span></td><td>Wii </td><td>Esportes</td><td> 8.06</td></tr>\n",
              "\t<tr><td>FIFA 14                                  </td><td>PS3 </td><td>Esportes</td><td> 6.90</td></tr>\n",
              "\t<tr><td>Zumba Fitness                            </td><td>Wii </td><td>Esportes</td><td> 6.81</td></tr>\n",
              "\t<tr><td>FIFA 12                                  </td><td>PS3 </td><td>Esportes</td><td> 6.69</td></tr>\n",
              "\t<tr><td>FIFA 15                                  </td><td>PS4 </td><td>Esportes</td><td> 6.59</td></tr>\n",
              "\t<tr><td>Kinect Sports                            </td><td>X360</td><td>Esportes</td><td> 6.24</td></tr>\n",
              "\t<tr><td>Madden NFL 2004                          </td><td>PS2 </td><td>Esportes</td><td> 5.23</td></tr>\n",
              "\t<tr><td><span style=white-space:pre-wrap>Mario &amp; Sonic at the Olympic Games       </span></td><td><span style=white-space:pre-wrap>DS  </span></td><td>Esportes</td><td> 5.14</td></tr>\n",
              "\t<tr><td>FIFA Soccer 11                           </td><td>PS3 </td><td>Esportes</td><td> 5.08</td></tr>\n",
              "\t<tr><td>Tony Hawk's Pro Skater                   </td><td>PS  </td><td>Esportes</td><td> 5.02</td></tr>\n",
              "\t<tr><td>Madden NFL 06                            </td><td>PS2 </td><td>Esportes</td><td> 4.91</td></tr>\n",
              "\t<tr><td>FIFA 15                                  </td><td>PS3 </td><td>Esportes</td><td> 4.82</td></tr>\n",
              "\t<tr><td>FIFA 17                                  </td><td>PS4 </td><td>Esportes</td><td> 4.77</td></tr>\n",
              "\t<tr><td>Tony Hawk's Pro Skater 2                 </td><td>PS  </td><td>Esportes</td><td> 4.68</td></tr>\n",
              "\t<tr><td>Mario &amp; Sonic at the Olympic Winter Games</td><td>Wii </td><td>Esportes</td><td> 4.58</td></tr>\n",
              "\t<tr><td>Madden NFL 2005                          </td><td>PS2 </td><td>Esportes</td><td> 4.53</td></tr>\n",
              "\t<tr><td>Madden NFL 07                            </td><td>PS2 </td><td>Esportes</td><td> 4.49</td></tr>\n",
              "\t<tr><td>Tony Hawk's Pro Skater 3                 </td><td>PS2 </td><td>Esportes</td><td> 4.41</td></tr>\n",
              "\t<tr><td>Winning Eleven: Pro Evolution Soccer 2007</td><td>PS2 </td><td>Esportes</td><td> 4.39</td></tr>\n",
              "\t<tr><td>FIFA 14                                  </td><td>X360</td><td>Esportes</td><td> 4.31</td></tr>\n",
              "\t<tr><td>FIFA Soccer 06                           </td><td>PS2 </td><td>Esportes</td><td> 4.21</td></tr>\n",
              "\t<tr><td>FIFA 12                                  </td><td>X360</td><td>Esportes</td><td> 4.19</td></tr>\n",
              "\t<tr><td>Madden NFL 2003                          </td><td>PS2 </td><td>Esportes</td><td> 4.14</td></tr>\n",
              "\t<tr><td>FIFA Soccer 07                           </td><td>PS2 </td><td>Esportes</td><td> 4.11</td></tr>\n",
              "\t<tr><td>World Soccer Winning Eleven 9            </td><td>PS2 </td><td>Esportes</td><td> 4.06</td></tr>\n",
              "\t<tr><td>⋮</td><td>⋮</td><td>⋮</td><td>⋮</td></tr>\n",
              "\t<tr><td>Family Jockey                                                 </td><td>Wii </td><td>Esportes</td><td>0.01</td></tr>\n",
              "\t<tr><td>Victory Spike                                                 </td><td>PS  </td><td>Esportes</td><td>0.01</td></tr>\n",
              "\t<tr><td>Championship Manager 2010                                     </td><td>PC  </td><td>Esportes</td><td>0.01</td></tr>\n",
              "\t<tr><td>Surf's Up                                                     </td><td>GC  </td><td>Esportes</td><td>0.01</td></tr>\n",
              "\t<tr><td>World Snooker Challenge 2005                                  </td><td>PSP </td><td>Esportes</td><td>0.01</td></tr>\n",
              "\t<tr><td>G1 Jockey 4 2008                                              </td><td>PS3 </td><td>Esportes</td><td>0.01</td></tr>\n",
              "\t<tr><td>NHL 2K7                                                       </td><td>XB  </td><td>Esportes</td><td>0.01</td></tr>\n",
              "\t<tr><td>John Daly's ProStroke Golf                                    </td><td>X360</td><td>Esportes</td><td>0.01</td></tr>\n",
              "\t<tr><td>WSC REAL 09: World Snooker Championship                       </td><td>X360</td><td>Esportes</td><td>0.01</td></tr>\n",
              "\t<tr><td>World Snooker Championship 2007                               </td><td>X360</td><td>Esportes</td><td>0.01</td></tr>\n",
              "\t<tr><td>Handball 16                                                   </td><td>X360</td><td>Esportes</td><td>0.01</td></tr>\n",
              "\t<tr><td>LMA Manager 2007                                              </td><td>X360</td><td>Esportes</td><td>0.01</td></tr>\n",
              "\t<tr><td>Pro Evolution Soccer 2010                                     </td><td>PC  </td><td>Esportes</td><td>0.01</td></tr>\n",
              "\t<tr><td>Tennis no Oji-Sama: Doubles no Oji-Sama - Boys -  Be Glorious!</td><td>DS  </td><td>Esportes</td><td>0.01</td></tr>\n",
              "\t<tr><td>Winning Eleven: Pro Evolution Soccer 2007                     </td><td>PC  </td><td>Esportes</td><td>0.01</td></tr>\n",
              "\t<tr><td>ESPN NBA 2Night 2002                                          </td><td>XB  </td><td>Esportes</td><td>0.01</td></tr>\n",
              "\t<tr><td>The Cages: Pro Style Batting Practice                         </td><td>Wii </td><td>Esportes</td><td>0.01</td></tr>\n",
              "\t<tr><td>G1 Jockey 4 2007                                              </td><td>PS2 </td><td>Esportes</td><td>0.01</td></tr>\n",
              "\t<tr><td>Wade Hixton's Counter Punch                                   </td><td>GBA </td><td>Esportes</td><td>0.01</td></tr>\n",
              "\t<tr><td>Rugby World Cup 2015                                          </td><td>PC  </td><td>Esportes</td><td>0.01</td></tr>\n",
              "\t<tr><td>Razor Freestyle Scooter                                       </td><td>GBA </td><td>Esportes</td><td>0.01</td></tr>\n",
              "\t<tr><td>Outdoors Unleashed: Alaska 3D                                 </td><td>3DS </td><td>Esportes</td><td>0.01</td></tr>\n",
              "\t<tr><td>Summer Athletics                                              </td><td>PC  </td><td>Esportes</td><td>0.01</td></tr>\n",
              "\t<tr><td>Imagine Figure Skater (JP sales)                              </td><td>DS  </td><td>Esportes</td><td>0.01</td></tr>\n",
              "\t<tr><td>Pro Evolution Soccer 2008                                     </td><td>PC  </td><td>Esportes</td><td>0.01</td></tr>\n",
              "\t<tr><td>Rugby Challenge 3                                             </td><td>XOne</td><td>Esportes</td><td>0.01</td></tr>\n",
              "\t<tr><td>Outdoors Unleashed: Africa 3D                                 </td><td>3DS </td><td>Esportes</td><td>0.01</td></tr>\n",
              "\t<tr><td>PGA European Tour                                             </td><td>N64 </td><td>Esportes</td><td>0.01</td></tr>\n",
              "\t<tr><td><span style=white-space:pre-wrap>Fit &amp; Fun                                                     </span></td><td>Wii </td><td>Esportes</td><td>0.01</td></tr>\n",
              "\t<tr><td>Mezase!! Tsuri Master DS                                      </td><td>DS  </td><td>Esportes</td><td>0.01</td></tr>\n",
              "</tbody>\n",
              "</table>\n"
            ],
            "text/markdown": "\nA data.frame: 2346 × 4\n\n| Nome &lt;chr&gt; | Plataforma &lt;chr&gt; | Genero &lt;chr&gt; | Venda_Global &lt;dbl&gt; |\n|---|---|---|---|\n| Wii Sports                                | Wii  | Esportes | 82.74 |\n| Wii Sports Resort                         | Wii  | Esportes | 33.00 |\n| Wii Fit                                   | Wii  | Esportes | 22.72 |\n| Wii Fit Plus                              | Wii  | Esportes | 22.00 |\n| FIFA 16                                   | PS4  | Esportes |  8.49 |\n| Mario &amp; Sonic at the Olympic Games        | Wii  | Esportes |  8.06 |\n| FIFA 14                                   | PS3  | Esportes |  6.90 |\n| Zumba Fitness                             | Wii  | Esportes |  6.81 |\n| FIFA 12                                   | PS3  | Esportes |  6.69 |\n| FIFA 15                                   | PS4  | Esportes |  6.59 |\n| Kinect Sports                             | X360 | Esportes |  6.24 |\n| Madden NFL 2004                           | PS2  | Esportes |  5.23 |\n| Mario &amp; Sonic at the Olympic Games        | DS   | Esportes |  5.14 |\n| FIFA Soccer 11                            | PS3  | Esportes |  5.08 |\n| Tony Hawk's Pro Skater                    | PS   | Esportes |  5.02 |\n| Madden NFL 06                             | PS2  | Esportes |  4.91 |\n| FIFA 15                                   | PS3  | Esportes |  4.82 |\n| FIFA 17                                   | PS4  | Esportes |  4.77 |\n| Tony Hawk's Pro Skater 2                  | PS   | Esportes |  4.68 |\n| Mario &amp; Sonic at the Olympic Winter Games | Wii  | Esportes |  4.58 |\n| Madden NFL 2005                           | PS2  | Esportes |  4.53 |\n| Madden NFL 07                             | PS2  | Esportes |  4.49 |\n| Tony Hawk's Pro Skater 3                  | PS2  | Esportes |  4.41 |\n| Winning Eleven: Pro Evolution Soccer 2007 | PS2  | Esportes |  4.39 |\n| FIFA 14                                   | X360 | Esportes |  4.31 |\n| FIFA Soccer 06                            | PS2  | Esportes |  4.21 |\n| FIFA 12                                   | X360 | Esportes |  4.19 |\n| Madden NFL 2003                           | PS2  | Esportes |  4.14 |\n| FIFA Soccer 07                            | PS2  | Esportes |  4.11 |\n| World Soccer Winning Eleven 9             | PS2  | Esportes |  4.06 |\n| ⋮ | ⋮ | ⋮ | ⋮ |\n| Family Jockey                                                  | Wii  | Esportes | 0.01 |\n| Victory Spike                                                  | PS   | Esportes | 0.01 |\n| Championship Manager 2010                                      | PC   | Esportes | 0.01 |\n| Surf's Up                                                      | GC   | Esportes | 0.01 |\n| World Snooker Challenge 2005                                   | PSP  | Esportes | 0.01 |\n| G1 Jockey 4 2008                                               | PS3  | Esportes | 0.01 |\n| NHL 2K7                                                        | XB   | Esportes | 0.01 |\n| John Daly's ProStroke Golf                                     | X360 | Esportes | 0.01 |\n| WSC REAL 09: World Snooker Championship                        | X360 | Esportes | 0.01 |\n| World Snooker Championship 2007                                | X360 | Esportes | 0.01 |\n| Handball 16                                                    | X360 | Esportes | 0.01 |\n| LMA Manager 2007                                               | X360 | Esportes | 0.01 |\n| Pro Evolution Soccer 2010                                      | PC   | Esportes | 0.01 |\n| Tennis no Oji-Sama: Doubles no Oji-Sama - Boys -  Be Glorious! | DS   | Esportes | 0.01 |\n| Winning Eleven: Pro Evolution Soccer 2007                      | PC   | Esportes | 0.01 |\n| ESPN NBA 2Night 2002                                           | XB   | Esportes | 0.01 |\n| The Cages: Pro Style Batting Practice                          | Wii  | Esportes | 0.01 |\n| G1 Jockey 4 2007                                               | PS2  | Esportes | 0.01 |\n| Wade Hixton's Counter Punch                                    | GBA  | Esportes | 0.01 |\n| Rugby World Cup 2015                                           | PC   | Esportes | 0.01 |\n| Razor Freestyle Scooter                                        | GBA  | Esportes | 0.01 |\n| Outdoors Unleashed: Alaska 3D                                  | 3DS  | Esportes | 0.01 |\n| Summer Athletics                                               | PC   | Esportes | 0.01 |\n| Imagine Figure Skater (JP sales)                               | DS   | Esportes | 0.01 |\n| Pro Evolution Soccer 2008                                      | PC   | Esportes | 0.01 |\n| Rugby Challenge 3                                              | XOne | Esportes | 0.01 |\n| Outdoors Unleashed: Africa 3D                                  | 3DS  | Esportes | 0.01 |\n| PGA European Tour                                              | N64  | Esportes | 0.01 |\n| Fit &amp; Fun                                                      | Wii  | Esportes | 0.01 |\n| Mezase!! Tsuri Master DS                                       | DS   | Esportes | 0.01 |\n\n",
            "text/latex": "A data.frame: 2346 × 4\n\\begin{tabular}{llll}\n Nome & Plataforma & Genero & Venda\\_Global\\\\\n <chr> & <chr> & <chr> & <dbl>\\\\\n\\hline\n\t Wii Sports                                & Wii  & Esportes & 82.74\\\\\n\t Wii Sports Resort                         & Wii  & Esportes & 33.00\\\\\n\t Wii Fit                                   & Wii  & Esportes & 22.72\\\\\n\t Wii Fit Plus                              & Wii  & Esportes & 22.00\\\\\n\t FIFA 16                                   & PS4  & Esportes &  8.49\\\\\n\t Mario \\& Sonic at the Olympic Games        & Wii  & Esportes &  8.06\\\\\n\t FIFA 14                                   & PS3  & Esportes &  6.90\\\\\n\t Zumba Fitness                             & Wii  & Esportes &  6.81\\\\\n\t FIFA 12                                   & PS3  & Esportes &  6.69\\\\\n\t FIFA 15                                   & PS4  & Esportes &  6.59\\\\\n\t Kinect Sports                             & X360 & Esportes &  6.24\\\\\n\t Madden NFL 2004                           & PS2  & Esportes &  5.23\\\\\n\t Mario \\& Sonic at the Olympic Games        & DS   & Esportes &  5.14\\\\\n\t FIFA Soccer 11                            & PS3  & Esportes &  5.08\\\\\n\t Tony Hawk's Pro Skater                    & PS   & Esportes &  5.02\\\\\n\t Madden NFL 06                             & PS2  & Esportes &  4.91\\\\\n\t FIFA 15                                   & PS3  & Esportes &  4.82\\\\\n\t FIFA 17                                   & PS4  & Esportes &  4.77\\\\\n\t Tony Hawk's Pro Skater 2                  & PS   & Esportes &  4.68\\\\\n\t Mario \\& Sonic at the Olympic Winter Games & Wii  & Esportes &  4.58\\\\\n\t Madden NFL 2005                           & PS2  & Esportes &  4.53\\\\\n\t Madden NFL 07                             & PS2  & Esportes &  4.49\\\\\n\t Tony Hawk's Pro Skater 3                  & PS2  & Esportes &  4.41\\\\\n\t Winning Eleven: Pro Evolution Soccer 2007 & PS2  & Esportes &  4.39\\\\\n\t FIFA 14                                   & X360 & Esportes &  4.31\\\\\n\t FIFA Soccer 06                            & PS2  & Esportes &  4.21\\\\\n\t FIFA 12                                   & X360 & Esportes &  4.19\\\\\n\t Madden NFL 2003                           & PS2  & Esportes &  4.14\\\\\n\t FIFA Soccer 07                            & PS2  & Esportes &  4.11\\\\\n\t World Soccer Winning Eleven 9             & PS2  & Esportes &  4.06\\\\\n\t ⋮ & ⋮ & ⋮ & ⋮\\\\\n\t Family Jockey                                                  & Wii  & Esportes & 0.01\\\\\n\t Victory Spike                                                  & PS   & Esportes & 0.01\\\\\n\t Championship Manager 2010                                      & PC   & Esportes & 0.01\\\\\n\t Surf's Up                                                      & GC   & Esportes & 0.01\\\\\n\t World Snooker Challenge 2005                                   & PSP  & Esportes & 0.01\\\\\n\t G1 Jockey 4 2008                                               & PS3  & Esportes & 0.01\\\\\n\t NHL 2K7                                                        & XB   & Esportes & 0.01\\\\\n\t John Daly's ProStroke Golf                                     & X360 & Esportes & 0.01\\\\\n\t WSC REAL 09: World Snooker Championship                        & X360 & Esportes & 0.01\\\\\n\t World Snooker Championship 2007                                & X360 & Esportes & 0.01\\\\\n\t Handball 16                                                    & X360 & Esportes & 0.01\\\\\n\t LMA Manager 2007                                               & X360 & Esportes & 0.01\\\\\n\t Pro Evolution Soccer 2010                                      & PC   & Esportes & 0.01\\\\\n\t Tennis no Oji-Sama: Doubles no Oji-Sama - Boys -  Be Glorious! & DS   & Esportes & 0.01\\\\\n\t Winning Eleven: Pro Evolution Soccer 2007                      & PC   & Esportes & 0.01\\\\\n\t ESPN NBA 2Night 2002                                           & XB   & Esportes & 0.01\\\\\n\t The Cages: Pro Style Batting Practice                          & Wii  & Esportes & 0.01\\\\\n\t G1 Jockey 4 2007                                               & PS2  & Esportes & 0.01\\\\\n\t Wade Hixton's Counter Punch                                    & GBA  & Esportes & 0.01\\\\\n\t Rugby World Cup 2015                                           & PC   & Esportes & 0.01\\\\\n\t Razor Freestyle Scooter                                        & GBA  & Esportes & 0.01\\\\\n\t Outdoors Unleashed: Alaska 3D                                  & 3DS  & Esportes & 0.01\\\\\n\t Summer Athletics                                               & PC   & Esportes & 0.01\\\\\n\t Imagine Figure Skater (JP sales)                               & DS   & Esportes & 0.01\\\\\n\t Pro Evolution Soccer 2008                                      & PC   & Esportes & 0.01\\\\\n\t Rugby Challenge 3                                              & XOne & Esportes & 0.01\\\\\n\t Outdoors Unleashed: Africa 3D                                  & 3DS  & Esportes & 0.01\\\\\n\t PGA European Tour                                              & N64  & Esportes & 0.01\\\\\n\t Fit \\& Fun                                                      & Wii  & Esportes & 0.01\\\\\n\t Mezase!! Tsuri Master DS                                       & DS   & Esportes & 0.01\\\\\n\\end{tabular}\n",
            "text/plain": [
              "     Nome                                                           Plataforma\n",
              "1    Wii Sports                                                     Wii       \n",
              "2    Wii Sports Resort                                              Wii       \n",
              "3    Wii Fit                                                        Wii       \n",
              "4    Wii Fit Plus                                                   Wii       \n",
              "5    FIFA 16                                                        PS4       \n",
              "6    Mario & Sonic at the Olympic Games                             Wii       \n",
              "7    FIFA 14                                                        PS3       \n",
              "8    Zumba Fitness                                                  Wii       \n",
              "9    FIFA 12                                                        PS3       \n",
              "10   FIFA 15                                                        PS4       \n",
              "11   Kinect Sports                                                  X360      \n",
              "12   Madden NFL 2004                                                PS2       \n",
              "13   Mario & Sonic at the Olympic Games                             DS        \n",
              "14   FIFA Soccer 11                                                 PS3       \n",
              "15   Tony Hawk's Pro Skater                                         PS        \n",
              "16   Madden NFL 06                                                  PS2       \n",
              "17   FIFA 15                                                        PS3       \n",
              "18   FIFA 17                                                        PS4       \n",
              "19   Tony Hawk's Pro Skater 2                                       PS        \n",
              "20   Mario & Sonic at the Olympic Winter Games                      Wii       \n",
              "21   Madden NFL 2005                                                PS2       \n",
              "22   Madden NFL 07                                                  PS2       \n",
              "23   Tony Hawk's Pro Skater 3                                       PS2       \n",
              "24   Winning Eleven: Pro Evolution Soccer 2007                      PS2       \n",
              "25   FIFA 14                                                        X360      \n",
              "26   FIFA Soccer 06                                                 PS2       \n",
              "27   FIFA 12                                                        X360      \n",
              "28   Madden NFL 2003                                                PS2       \n",
              "29   FIFA Soccer 07                                                 PS2       \n",
              "30   World Soccer Winning Eleven 9                                  PS2       \n",
              "⋮    ⋮                                                              ⋮         \n",
              "2317 Family Jockey                                                  Wii       \n",
              "2318 Victory Spike                                                  PS        \n",
              "2319 Championship Manager 2010                                      PC        \n",
              "2320 Surf's Up                                                      GC        \n",
              "2321 World Snooker Challenge 2005                                   PSP       \n",
              "2322 G1 Jockey 4 2008                                               PS3       \n",
              "2323 NHL 2K7                                                        XB        \n",
              "2324 John Daly's ProStroke Golf                                     X360      \n",
              "2325 WSC REAL 09: World Snooker Championship                        X360      \n",
              "2326 World Snooker Championship 2007                                X360      \n",
              "2327 Handball 16                                                    X360      \n",
              "2328 LMA Manager 2007                                               X360      \n",
              "2329 Pro Evolution Soccer 2010                                      PC        \n",
              "2330 Tennis no Oji-Sama: Doubles no Oji-Sama - Boys -  Be Glorious! DS        \n",
              "2331 Winning Eleven: Pro Evolution Soccer 2007                      PC        \n",
              "2332 ESPN NBA 2Night 2002                                           XB        \n",
              "2333 The Cages: Pro Style Batting Practice                          Wii       \n",
              "2334 G1 Jockey 4 2007                                               PS2       \n",
              "2335 Wade Hixton's Counter Punch                                    GBA       \n",
              "2336 Rugby World Cup 2015                                           PC        \n",
              "2337 Razor Freestyle Scooter                                        GBA       \n",
              "2338 Outdoors Unleashed: Alaska 3D                                  3DS       \n",
              "2339 Summer Athletics                                               PC        \n",
              "2340 Imagine Figure Skater (JP sales)                               DS        \n",
              "2341 Pro Evolution Soccer 2008                                      PC        \n",
              "2342 Rugby Challenge 3                                              XOne      \n",
              "2343 Outdoors Unleashed: Africa 3D                                  3DS       \n",
              "2344 PGA European Tour                                              N64       \n",
              "2345 Fit & Fun                                                      Wii       \n",
              "2346 Mezase!! Tsuri Master DS                                       DS        \n",
              "     Genero   Venda_Global\n",
              "1    Esportes 82.74       \n",
              "2    Esportes 33.00       \n",
              "3    Esportes 22.72       \n",
              "4    Esportes 22.00       \n",
              "5    Esportes  8.49       \n",
              "6    Esportes  8.06       \n",
              "7    Esportes  6.90       \n",
              "8    Esportes  6.81       \n",
              "9    Esportes  6.69       \n",
              "10   Esportes  6.59       \n",
              "11   Esportes  6.24       \n",
              "12   Esportes  5.23       \n",
              "13   Esportes  5.14       \n",
              "14   Esportes  5.08       \n",
              "15   Esportes  5.02       \n",
              "16   Esportes  4.91       \n",
              "17   Esportes  4.82       \n",
              "18   Esportes  4.77       \n",
              "19   Esportes  4.68       \n",
              "20   Esportes  4.58       \n",
              "21   Esportes  4.53       \n",
              "22   Esportes  4.49       \n",
              "23   Esportes  4.41       \n",
              "24   Esportes  4.39       \n",
              "25   Esportes  4.31       \n",
              "26   Esportes  4.21       \n",
              "27   Esportes  4.19       \n",
              "28   Esportes  4.14       \n",
              "29   Esportes  4.11       \n",
              "30   Esportes  4.06       \n",
              "⋮    ⋮        ⋮           \n",
              "2317 Esportes 0.01        \n",
              "2318 Esportes 0.01        \n",
              "2319 Esportes 0.01        \n",
              "2320 Esportes 0.01        \n",
              "2321 Esportes 0.01        \n",
              "2322 Esportes 0.01        \n",
              "2323 Esportes 0.01        \n",
              "2324 Esportes 0.01        \n",
              "2325 Esportes 0.01        \n",
              "2326 Esportes 0.01        \n",
              "2327 Esportes 0.01        \n",
              "2328 Esportes 0.01        \n",
              "2329 Esportes 0.01        \n",
              "2330 Esportes 0.01        \n",
              "2331 Esportes 0.01        \n",
              "2332 Esportes 0.01        \n",
              "2333 Esportes 0.01        \n",
              "2334 Esportes 0.01        \n",
              "2335 Esportes 0.01        \n",
              "2336 Esportes 0.01        \n",
              "2337 Esportes 0.01        \n",
              "2338 Esportes 0.01        \n",
              "2339 Esportes 0.01        \n",
              "2340 Esportes 0.01        \n",
              "2341 Esportes 0.01        \n",
              "2342 Esportes 0.01        \n",
              "2343 Esportes 0.01        \n",
              "2344 Esportes 0.01        \n",
              "2345 Esportes 0.01        \n",
              "2346 Esportes 0.01        "
            ]
          },
          "metadata": {}
        }
      ]
    },
    {
      "cell_type": "code",
      "source": [
        "acao<-filter(Tipo,Genero==\"Ação\")"
      ],
      "metadata": {
        "id": "LNGeyy9ZWHO9"
      },
      "execution_count": 61,
      "outputs": []
    },
    {
      "cell_type": "code",
      "source": [
        "acao%>%arrange(desc(Venda_Global))"
      ],
      "metadata": {
        "colab": {
          "base_uri": "https://localhost:8080/",
          "height": 1000
        },
        "id": "dIigyEwfhZuW",
        "outputId": "6a633e33-c061-43e8-ee51-0e3ba7dfacc2"
      },
      "execution_count": 62,
      "outputs": [
        {
          "output_type": "display_data",
          "data": {
            "text/html": [
              "<table class=\"dataframe\">\n",
              "<caption>A data.frame: 3313 × 4</caption>\n",
              "<thead>\n",
              "\t<tr><th scope=col>Nome</th><th scope=col>Plataforma</th><th scope=col>Genero</th><th scope=col>Venda_Global</th></tr>\n",
              "\t<tr><th scope=col>&lt;chr&gt;</th><th scope=col>&lt;chr&gt;</th><th scope=col>&lt;chr&gt;</th><th scope=col>&lt;dbl&gt;</th></tr>\n",
              "</thead>\n",
              "<tbody>\n",
              "\t<tr><td>Grand Theft Auto V                      </td><td>PS3 </td><td>Ação</td><td>21.40</td></tr>\n",
              "\t<tr><td>Grand Theft Auto: San Andreas           </td><td>PS2 </td><td>Ação</td><td>20.81</td></tr>\n",
              "\t<tr><td>Grand Theft Auto V                      </td><td>X360</td><td>Ação</td><td>16.38</td></tr>\n",
              "\t<tr><td>Grand Theft Auto: Vice City             </td><td>PS2 </td><td>Ação</td><td>16.15</td></tr>\n",
              "\t<tr><td>Grand Theft Auto III                    </td><td>PS2 </td><td>Ação</td><td>13.10</td></tr>\n",
              "\t<tr><td>Grand Theft Auto V                      </td><td>PS4 </td><td>Ação</td><td>11.98</td></tr>\n",
              "\t<tr><td>Pokemon HeartGold/Pokemon SoulSilver    </td><td>DS  </td><td>Ação</td><td>11.90</td></tr>\n",
              "\t<tr><td>Grand Theft Auto IV                     </td><td>X360</td><td>Ação</td><td>11.02</td></tr>\n",
              "\t<tr><td>Grand Theft Auto IV                     </td><td>PS3 </td><td>Ação</td><td>10.57</td></tr>\n",
              "\t<tr><td>FIFA Soccer 13                          </td><td>PS3 </td><td>Ação</td><td> 8.24</td></tr>\n",
              "\t<tr><td>Grand Theft Auto: Liberty City Stories  </td><td>PSP </td><td>Ação</td><td> 7.72</td></tr>\n",
              "\t<tr><td>The Legend of Zelda: Ocarina of Time    </td><td>N64 </td><td>Ação</td><td> 7.60</td></tr>\n",
              "\t<tr><td>The Legend of Zelda: Twilight Princess  </td><td>Wii </td><td>Ação</td><td> 7.31</td></tr>\n",
              "\t<tr><td>Uncharted 3: Drake's Deception          </td><td>PS3 </td><td>Ação</td><td> 6.83</td></tr>\n",
              "\t<tr><td>Uncharted 2: Among Thieves              </td><td>PS3 </td><td>Ação</td><td> 6.73</td></tr>\n",
              "\t<tr><td>Red Dead Redemption                     </td><td>PS3 </td><td>Ação</td><td> 6.60</td></tr>\n",
              "\t<tr><td>The Legend of Zelda                     </td><td>NES </td><td>Ação</td><td> 6.51</td></tr>\n",
              "\t<tr><td>Assassin's Creed III                    </td><td>PS3 </td><td>Ação</td><td> 6.50</td></tr>\n",
              "\t<tr><td>Red Dead Redemption                     </td><td>X360</td><td>Ação</td><td> 6.34</td></tr>\n",
              "\t<tr><td>Driver                                  </td><td>PS  </td><td>Ação</td><td> 6.27</td></tr>\n",
              "\t<tr><td>Metal Gear Solid 2: Sons of Liberty     </td><td>PS2 </td><td>Ação</td><td> 6.05</td></tr>\n",
              "\t<tr><td>Metal Gear Solid 4: Guns of the Patriots</td><td>PS3 </td><td>Ação</td><td> 6.03</td></tr>\n",
              "\t<tr><td>Metal Gear Solid                        </td><td>PS  </td><td>Ação</td><td> 6.03</td></tr>\n",
              "\t<tr><td>The Last of Us                          </td><td>PS3 </td><td>Ação</td><td> 5.99</td></tr>\n",
              "\t<tr><td>LEGO Star Wars: The Complete Saga       </td><td>Wii </td><td>Ação</td><td> 5.83</td></tr>\n",
              "\t<tr><td>Resident Evil 2                         </td><td>PS  </td><td>Ação</td><td> 5.82</td></tr>\n",
              "\t<tr><td>Assassin's Creed II                     </td><td>PS3 </td><td>Ação</td><td> 5.57</td></tr>\n",
              "\t<tr><td>Batman: Arkham City                     </td><td>PS3 </td><td>Ação</td><td> 5.53</td></tr>\n",
              "\t<tr><td>Assassin's Creed III                    </td><td>X360</td><td>Ação</td><td> 5.30</td></tr>\n",
              "\t<tr><td>Assassin's Creed II                     </td><td>X360</td><td>Ação</td><td> 5.27</td></tr>\n",
              "\t<tr><td>⋮</td><td>⋮</td><td>⋮</td><td>⋮</td></tr>\n",
              "\t<tr><td>Madagascar: Escape 2 Africa                                                                               </td><td>PC  </td><td>Ação</td><td>0.01</td></tr>\n",
              "\t<tr><td>Legacy of Kain: Defiance                                                                                  </td><td>PC  </td><td>Ação</td><td>0.01</td></tr>\n",
              "\t<tr><td>Assassin's Creed Chronicles                                                                               </td><td>XOne</td><td>Ação</td><td>0.01</td></tr>\n",
              "\t<tr><td>Hyperdimension Neptunia mk2                                                                               </td><td>PS3 </td><td>Ação</td><td>0.01</td></tr>\n",
              "\t<tr><td>Rugby League Live 3                                                                                       </td><td>XOne</td><td>Ação</td><td>0.01</td></tr>\n",
              "\t<tr><td>Winx Club: Saving Alfea                                                                                   </td><td>3DS </td><td>Ação</td><td>0.01</td></tr>\n",
              "\t<tr><td>Katekyoo Hitman Reborn! Kindan no Yami no Delta                                                           </td><td>Wii </td><td>Ação</td><td>0.01</td></tr>\n",
              "\t<tr><td>Horse Life 4: My Horse -  My Friend -  My Champion                                                        </td><td>3DS </td><td>Ação</td><td>0.01</td></tr>\n",
              "\t<tr><td>Azure Striker Gunvolt: Striker Pack                                                                       </td><td>3DS </td><td>Ação</td><td>0.01</td></tr>\n",
              "\t<tr><td>Shinobi -  Koi Utsutsu: Setsugetsuka Koi Emaki                                                            </td><td>PSV </td><td>Ação</td><td>0.01</td></tr>\n",
              "\t<tr><td>Koi Sentai Love &amp; Peace the P.S.P: Power Zenkai! Special Youso Tenkomori de Portable Ka Daisakusen de Aru!</td><td>PSP </td><td>Ação</td><td>0.01</td></tr>\n",
              "\t<tr><td>The Smurfs                                                                                                </td><td>3DS </td><td>Ação</td><td>0.01</td></tr>\n",
              "\t<tr><td>Unending Bloody Call                                                                                      </td><td>PSP </td><td>Ação</td><td>0.01</td></tr>\n",
              "\t<tr><td>Irotoridori no Sekai: World's End Re-Birth                                                                </td><td>PSV </td><td>Ação</td><td>0.01</td></tr>\n",
              "\t<tr><td>Trine                                                                                                     </td><td>PC  </td><td>Ação</td><td>0.01</td></tr>\n",
              "\t<tr><td>Teenage Mutant Ninja Turtles                                                                              </td><td>Wii </td><td>Ação</td><td>0.01</td></tr>\n",
              "\t<tr><td>Hirameki Action: Chibikko Wagyan no Daiki na Bouken                                                       </td><td>DS  </td><td>Ação</td><td>0.01</td></tr>\n",
              "\t<tr><td>Hitman (2016)                                                                                             </td><td>XOne</td><td>Ação</td><td>0.01</td></tr>\n",
              "\t<tr><td>Metal Gear Solid HD Edition                                                                               </td><td>X360</td><td>Ação</td><td>0.01</td></tr>\n",
              "\t<tr><td>Mushi Bugyou                                                                                              </td><td>3DS </td><td>Ação</td><td>0.01</td></tr>\n",
              "\t<tr><td>Transformers: Fall of Cybertron                                                                           </td><td>PC  </td><td>Ação</td><td>0.01</td></tr>\n",
              "\t<tr><td>Hyakki Yagyou Kaidan Romance                                                                              </td><td>PSP </td><td>Ação</td><td>0.01</td></tr>\n",
              "\t<tr><td>Hakuoki: Reimeiroku - Omouhase Kara                                                                       </td><td>PSV </td><td>Ação</td><td>0.01</td></tr>\n",
              "\t<tr><td>E.T. The Extra-Terrestrial                                                                                </td><td>GBA </td><td>Ação</td><td>0.01</td></tr>\n",
              "\t<tr><td><span style=white-space:pre-wrap>God Eater Off Shot: Tachibana Sakuya-hen Twin Pack &amp; Animation Vol.7                                      </span></td><td>PS4 </td><td>Ação</td><td>0.01</td></tr>\n",
              "\t<tr><td><span style=white-space:pre-wrap>Original Frisbee Disc Sports: Ultimate &amp; Golf                                                             </span></td><td><span style=white-space:pre-wrap>DS  </span></td><td>Ação</td><td>0.01</td></tr>\n",
              "\t<tr><td>Fujiko F. Fujio Characters: Great Assembly! Slightly Fantastic Slapstick Party                            </td><td>3DS </td><td>Ação</td><td>0.01</td></tr>\n",
              "\t<tr><td>Planet Monsters                                                                                           </td><td>GBA </td><td>Ação</td><td>0.01</td></tr>\n",
              "\t<tr><td>Carmageddon 64                                                                                            </td><td>N64 </td><td>Ação</td><td>0.01</td></tr>\n",
              "\t<tr><td>Chou Ezaru wa Akai Hana: Koi wa Tsuki ni Shirube Kareru                                                   </td><td>PSV </td><td>Ação</td><td>0.01</td></tr>\n",
              "</tbody>\n",
              "</table>\n"
            ],
            "text/markdown": "\nA data.frame: 3313 × 4\n\n| Nome &lt;chr&gt; | Plataforma &lt;chr&gt; | Genero &lt;chr&gt; | Venda_Global &lt;dbl&gt; |\n|---|---|---|---|\n| Grand Theft Auto V                       | PS3  | Ação | 21.40 |\n| Grand Theft Auto: San Andreas            | PS2  | Ação | 20.81 |\n| Grand Theft Auto V                       | X360 | Ação | 16.38 |\n| Grand Theft Auto: Vice City              | PS2  | Ação | 16.15 |\n| Grand Theft Auto III                     | PS2  | Ação | 13.10 |\n| Grand Theft Auto V                       | PS4  | Ação | 11.98 |\n| Pokemon HeartGold/Pokemon SoulSilver     | DS   | Ação | 11.90 |\n| Grand Theft Auto IV                      | X360 | Ação | 11.02 |\n| Grand Theft Auto IV                      | PS3  | Ação | 10.57 |\n| FIFA Soccer 13                           | PS3  | Ação |  8.24 |\n| Grand Theft Auto: Liberty City Stories   | PSP  | Ação |  7.72 |\n| The Legend of Zelda: Ocarina of Time     | N64  | Ação |  7.60 |\n| The Legend of Zelda: Twilight Princess   | Wii  | Ação |  7.31 |\n| Uncharted 3: Drake's Deception           | PS3  | Ação |  6.83 |\n| Uncharted 2: Among Thieves               | PS3  | Ação |  6.73 |\n| Red Dead Redemption                      | PS3  | Ação |  6.60 |\n| The Legend of Zelda                      | NES  | Ação |  6.51 |\n| Assassin's Creed III                     | PS3  | Ação |  6.50 |\n| Red Dead Redemption                      | X360 | Ação |  6.34 |\n| Driver                                   | PS   | Ação |  6.27 |\n| Metal Gear Solid 2: Sons of Liberty      | PS2  | Ação |  6.05 |\n| Metal Gear Solid 4: Guns of the Patriots | PS3  | Ação |  6.03 |\n| Metal Gear Solid                         | PS   | Ação |  6.03 |\n| The Last of Us                           | PS3  | Ação |  5.99 |\n| LEGO Star Wars: The Complete Saga        | Wii  | Ação |  5.83 |\n| Resident Evil 2                          | PS   | Ação |  5.82 |\n| Assassin's Creed II                      | PS3  | Ação |  5.57 |\n| Batman: Arkham City                      | PS3  | Ação |  5.53 |\n| Assassin's Creed III                     | X360 | Ação |  5.30 |\n| Assassin's Creed II                      | X360 | Ação |  5.27 |\n| ⋮ | ⋮ | ⋮ | ⋮ |\n| Madagascar: Escape 2 Africa                                                                                | PC   | Ação | 0.01 |\n| Legacy of Kain: Defiance                                                                                   | PC   | Ação | 0.01 |\n| Assassin's Creed Chronicles                                                                                | XOne | Ação | 0.01 |\n| Hyperdimension Neptunia mk2                                                                                | PS3  | Ação | 0.01 |\n| Rugby League Live 3                                                                                        | XOne | Ação | 0.01 |\n| Winx Club: Saving Alfea                                                                                    | 3DS  | Ação | 0.01 |\n| Katekyoo Hitman Reborn! Kindan no Yami no Delta                                                            | Wii  | Ação | 0.01 |\n| Horse Life 4: My Horse -  My Friend -  My Champion                                                         | 3DS  | Ação | 0.01 |\n| Azure Striker Gunvolt: Striker Pack                                                                        | 3DS  | Ação | 0.01 |\n| Shinobi -  Koi Utsutsu: Setsugetsuka Koi Emaki                                                             | PSV  | Ação | 0.01 |\n| Koi Sentai Love &amp; Peace the P.S.P: Power Zenkai! Special Youso Tenkomori de Portable Ka Daisakusen de Aru! | PSP  | Ação | 0.01 |\n| The Smurfs                                                                                                 | 3DS  | Ação | 0.01 |\n| Unending Bloody Call                                                                                       | PSP  | Ação | 0.01 |\n| Irotoridori no Sekai: World's End Re-Birth                                                                 | PSV  | Ação | 0.01 |\n| Trine                                                                                                      | PC   | Ação | 0.01 |\n| Teenage Mutant Ninja Turtles                                                                               | Wii  | Ação | 0.01 |\n| Hirameki Action: Chibikko Wagyan no Daiki na Bouken                                                        | DS   | Ação | 0.01 |\n| Hitman (2016)                                                                                              | XOne | Ação | 0.01 |\n| Metal Gear Solid HD Edition                                                                                | X360 | Ação | 0.01 |\n| Mushi Bugyou                                                                                               | 3DS  | Ação | 0.01 |\n| Transformers: Fall of Cybertron                                                                            | PC   | Ação | 0.01 |\n| Hyakki Yagyou Kaidan Romance                                                                               | PSP  | Ação | 0.01 |\n| Hakuoki: Reimeiroku - Omouhase Kara                                                                        | PSV  | Ação | 0.01 |\n| E.T. The Extra-Terrestrial                                                                                 | GBA  | Ação | 0.01 |\n| God Eater Off Shot: Tachibana Sakuya-hen Twin Pack &amp; Animation Vol.7                                       | PS4  | Ação | 0.01 |\n| Original Frisbee Disc Sports: Ultimate &amp; Golf                                                              | DS   | Ação | 0.01 |\n| Fujiko F. Fujio Characters: Great Assembly! Slightly Fantastic Slapstick Party                             | 3DS  | Ação | 0.01 |\n| Planet Monsters                                                                                            | GBA  | Ação | 0.01 |\n| Carmageddon 64                                                                                             | N64  | Ação | 0.01 |\n| Chou Ezaru wa Akai Hana: Koi wa Tsuki ni Shirube Kareru                                                    | PSV  | Ação | 0.01 |\n\n",
            "text/latex": "A data.frame: 3313 × 4\n\\begin{tabular}{llll}\n Nome & Plataforma & Genero & Venda\\_Global\\\\\n <chr> & <chr> & <chr> & <dbl>\\\\\n\\hline\n\t Grand Theft Auto V                       & PS3  & Ação & 21.40\\\\\n\t Grand Theft Auto: San Andreas            & PS2  & Ação & 20.81\\\\\n\t Grand Theft Auto V                       & X360 & Ação & 16.38\\\\\n\t Grand Theft Auto: Vice City              & PS2  & Ação & 16.15\\\\\n\t Grand Theft Auto III                     & PS2  & Ação & 13.10\\\\\n\t Grand Theft Auto V                       & PS4  & Ação & 11.98\\\\\n\t Pokemon HeartGold/Pokemon SoulSilver     & DS   & Ação & 11.90\\\\\n\t Grand Theft Auto IV                      & X360 & Ação & 11.02\\\\\n\t Grand Theft Auto IV                      & PS3  & Ação & 10.57\\\\\n\t FIFA Soccer 13                           & PS3  & Ação &  8.24\\\\\n\t Grand Theft Auto: Liberty City Stories   & PSP  & Ação &  7.72\\\\\n\t The Legend of Zelda: Ocarina of Time     & N64  & Ação &  7.60\\\\\n\t The Legend of Zelda: Twilight Princess   & Wii  & Ação &  7.31\\\\\n\t Uncharted 3: Drake's Deception           & PS3  & Ação &  6.83\\\\\n\t Uncharted 2: Among Thieves               & PS3  & Ação &  6.73\\\\\n\t Red Dead Redemption                      & PS3  & Ação &  6.60\\\\\n\t The Legend of Zelda                      & NES  & Ação &  6.51\\\\\n\t Assassin's Creed III                     & PS3  & Ação &  6.50\\\\\n\t Red Dead Redemption                      & X360 & Ação &  6.34\\\\\n\t Driver                                   & PS   & Ação &  6.27\\\\\n\t Metal Gear Solid 2: Sons of Liberty      & PS2  & Ação &  6.05\\\\\n\t Metal Gear Solid 4: Guns of the Patriots & PS3  & Ação &  6.03\\\\\n\t Metal Gear Solid                         & PS   & Ação &  6.03\\\\\n\t The Last of Us                           & PS3  & Ação &  5.99\\\\\n\t LEGO Star Wars: The Complete Saga        & Wii  & Ação &  5.83\\\\\n\t Resident Evil 2                          & PS   & Ação &  5.82\\\\\n\t Assassin's Creed II                      & PS3  & Ação &  5.57\\\\\n\t Batman: Arkham City                      & PS3  & Ação &  5.53\\\\\n\t Assassin's Creed III                     & X360 & Ação &  5.30\\\\\n\t Assassin's Creed II                      & X360 & Ação &  5.27\\\\\n\t ⋮ & ⋮ & ⋮ & ⋮\\\\\n\t Madagascar: Escape 2 Africa                                                                                & PC   & Ação & 0.01\\\\\n\t Legacy of Kain: Defiance                                                                                   & PC   & Ação & 0.01\\\\\n\t Assassin's Creed Chronicles                                                                                & XOne & Ação & 0.01\\\\\n\t Hyperdimension Neptunia mk2                                                                                & PS3  & Ação & 0.01\\\\\n\t Rugby League Live 3                                                                                        & XOne & Ação & 0.01\\\\\n\t Winx Club: Saving Alfea                                                                                    & 3DS  & Ação & 0.01\\\\\n\t Katekyoo Hitman Reborn! Kindan no Yami no Delta                                                            & Wii  & Ação & 0.01\\\\\n\t Horse Life 4: My Horse -  My Friend -  My Champion                                                         & 3DS  & Ação & 0.01\\\\\n\t Azure Striker Gunvolt: Striker Pack                                                                        & 3DS  & Ação & 0.01\\\\\n\t Shinobi -  Koi Utsutsu: Setsugetsuka Koi Emaki                                                             & PSV  & Ação & 0.01\\\\\n\t Koi Sentai Love \\& Peace the P.S.P: Power Zenkai! Special Youso Tenkomori de Portable Ka Daisakusen de Aru! & PSP  & Ação & 0.01\\\\\n\t The Smurfs                                                                                                 & 3DS  & Ação & 0.01\\\\\n\t Unending Bloody Call                                                                                       & PSP  & Ação & 0.01\\\\\n\t Irotoridori no Sekai: World's End Re-Birth                                                                 & PSV  & Ação & 0.01\\\\\n\t Trine                                                                                                      & PC   & Ação & 0.01\\\\\n\t Teenage Mutant Ninja Turtles                                                                               & Wii  & Ação & 0.01\\\\\n\t Hirameki Action: Chibikko Wagyan no Daiki na Bouken                                                        & DS   & Ação & 0.01\\\\\n\t Hitman (2016)                                                                                              & XOne & Ação & 0.01\\\\\n\t Metal Gear Solid HD Edition                                                                                & X360 & Ação & 0.01\\\\\n\t Mushi Bugyou                                                                                               & 3DS  & Ação & 0.01\\\\\n\t Transformers: Fall of Cybertron                                                                            & PC   & Ação & 0.01\\\\\n\t Hyakki Yagyou Kaidan Romance                                                                               & PSP  & Ação & 0.01\\\\\n\t Hakuoki: Reimeiroku - Omouhase Kara                                                                        & PSV  & Ação & 0.01\\\\\n\t E.T. The Extra-Terrestrial                                                                                 & GBA  & Ação & 0.01\\\\\n\t God Eater Off Shot: Tachibana Sakuya-hen Twin Pack \\& Animation Vol.7                                       & PS4  & Ação & 0.01\\\\\n\t Original Frisbee Disc Sports: Ultimate \\& Golf                                                              & DS   & Ação & 0.01\\\\\n\t Fujiko F. Fujio Characters: Great Assembly! Slightly Fantastic Slapstick Party                             & 3DS  & Ação & 0.01\\\\\n\t Planet Monsters                                                                                            & GBA  & Ação & 0.01\\\\\n\t Carmageddon 64                                                                                             & N64  & Ação & 0.01\\\\\n\t Chou Ezaru wa Akai Hana: Koi wa Tsuki ni Shirube Kareru                                                    & PSV  & Ação & 0.01\\\\\n\\end{tabular}\n",
            "text/plain": [
              "     Nome                                                                                                      \n",
              "1    Grand Theft Auto V                                                                                        \n",
              "2    Grand Theft Auto: San Andreas                                                                             \n",
              "3    Grand Theft Auto V                                                                                        \n",
              "4    Grand Theft Auto: Vice City                                                                               \n",
              "5    Grand Theft Auto III                                                                                      \n",
              "6    Grand Theft Auto V                                                                                        \n",
              "7    Pokemon HeartGold/Pokemon SoulSilver                                                                      \n",
              "8    Grand Theft Auto IV                                                                                       \n",
              "9    Grand Theft Auto IV                                                                                       \n",
              "10   FIFA Soccer 13                                                                                            \n",
              "11   Grand Theft Auto: Liberty City Stories                                                                    \n",
              "12   The Legend of Zelda: Ocarina of Time                                                                      \n",
              "13   The Legend of Zelda: Twilight Princess                                                                    \n",
              "14   Uncharted 3: Drake's Deception                                                                            \n",
              "15   Uncharted 2: Among Thieves                                                                                \n",
              "16   Red Dead Redemption                                                                                       \n",
              "17   The Legend of Zelda                                                                                       \n",
              "18   Assassin's Creed III                                                                                      \n",
              "19   Red Dead Redemption                                                                                       \n",
              "20   Driver                                                                                                    \n",
              "21   Metal Gear Solid 2: Sons of Liberty                                                                       \n",
              "22   Metal Gear Solid 4: Guns of the Patriots                                                                  \n",
              "23   Metal Gear Solid                                                                                          \n",
              "24   The Last of Us                                                                                            \n",
              "25   LEGO Star Wars: The Complete Saga                                                                         \n",
              "26   Resident Evil 2                                                                                           \n",
              "27   Assassin's Creed II                                                                                       \n",
              "28   Batman: Arkham City                                                                                       \n",
              "29   Assassin's Creed III                                                                                      \n",
              "30   Assassin's Creed II                                                                                       \n",
              "⋮    ⋮                                                                                                         \n",
              "3284 Madagascar: Escape 2 Africa                                                                               \n",
              "3285 Legacy of Kain: Defiance                                                                                  \n",
              "3286 Assassin's Creed Chronicles                                                                               \n",
              "3287 Hyperdimension Neptunia mk2                                                                               \n",
              "3288 Rugby League Live 3                                                                                       \n",
              "3289 Winx Club: Saving Alfea                                                                                   \n",
              "3290 Katekyoo Hitman Reborn! Kindan no Yami no Delta                                                           \n",
              "3291 Horse Life 4: My Horse -  My Friend -  My Champion                                                        \n",
              "3292 Azure Striker Gunvolt: Striker Pack                                                                       \n",
              "3293 Shinobi -  Koi Utsutsu: Setsugetsuka Koi Emaki                                                            \n",
              "3294 Koi Sentai Love & Peace the P.S.P: Power Zenkai! Special Youso Tenkomori de Portable Ka Daisakusen de Aru!\n",
              "3295 The Smurfs                                                                                                \n",
              "3296 Unending Bloody Call                                                                                      \n",
              "3297 Irotoridori no Sekai: World's End Re-Birth                                                                \n",
              "3298 Trine                                                                                                     \n",
              "3299 Teenage Mutant Ninja Turtles                                                                              \n",
              "3300 Hirameki Action: Chibikko Wagyan no Daiki na Bouken                                                       \n",
              "3301 Hitman (2016)                                                                                             \n",
              "3302 Metal Gear Solid HD Edition                                                                               \n",
              "3303 Mushi Bugyou                                                                                              \n",
              "3304 Transformers: Fall of Cybertron                                                                           \n",
              "3305 Hyakki Yagyou Kaidan Romance                                                                              \n",
              "3306 Hakuoki: Reimeiroku - Omouhase Kara                                                                       \n",
              "3307 E.T. The Extra-Terrestrial                                                                                \n",
              "3308 God Eater Off Shot: Tachibana Sakuya-hen Twin Pack & Animation Vol.7                                      \n",
              "3309 Original Frisbee Disc Sports: Ultimate & Golf                                                             \n",
              "3310 Fujiko F. Fujio Characters: Great Assembly! Slightly Fantastic Slapstick Party                            \n",
              "3311 Planet Monsters                                                                                           \n",
              "3312 Carmageddon 64                                                                                            \n",
              "3313 Chou Ezaru wa Akai Hana: Koi wa Tsuki ni Shirube Kareru                                                   \n",
              "     Plataforma Genero Venda_Global\n",
              "1    PS3        Ação   21.40       \n",
              "2    PS2        Ação   20.81       \n",
              "3    X360       Ação   16.38       \n",
              "4    PS2        Ação   16.15       \n",
              "5    PS2        Ação   13.10       \n",
              "6    PS4        Ação   11.98       \n",
              "7    DS         Ação   11.90       \n",
              "8    X360       Ação   11.02       \n",
              "9    PS3        Ação   10.57       \n",
              "10   PS3        Ação    8.24       \n",
              "11   PSP        Ação    7.72       \n",
              "12   N64        Ação    7.60       \n",
              "13   Wii        Ação    7.31       \n",
              "14   PS3        Ação    6.83       \n",
              "15   PS3        Ação    6.73       \n",
              "16   PS3        Ação    6.60       \n",
              "17   NES        Ação    6.51       \n",
              "18   PS3        Ação    6.50       \n",
              "19   X360       Ação    6.34       \n",
              "20   PS         Ação    6.27       \n",
              "21   PS2        Ação    6.05       \n",
              "22   PS3        Ação    6.03       \n",
              "23   PS         Ação    6.03       \n",
              "24   PS3        Ação    5.99       \n",
              "25   Wii        Ação    5.83       \n",
              "26   PS         Ação    5.82       \n",
              "27   PS3        Ação    5.57       \n",
              "28   PS3        Ação    5.53       \n",
              "29   X360       Ação    5.30       \n",
              "30   X360       Ação    5.27       \n",
              "⋮    ⋮          ⋮      ⋮           \n",
              "3284 PC         Ação   0.01        \n",
              "3285 PC         Ação   0.01        \n",
              "3286 XOne       Ação   0.01        \n",
              "3287 PS3        Ação   0.01        \n",
              "3288 XOne       Ação   0.01        \n",
              "3289 3DS        Ação   0.01        \n",
              "3290 Wii        Ação   0.01        \n",
              "3291 3DS        Ação   0.01        \n",
              "3292 3DS        Ação   0.01        \n",
              "3293 PSV        Ação   0.01        \n",
              "3294 PSP        Ação   0.01        \n",
              "3295 3DS        Ação   0.01        \n",
              "3296 PSP        Ação   0.01        \n",
              "3297 PSV        Ação   0.01        \n",
              "3298 PC         Ação   0.01        \n",
              "3299 Wii        Ação   0.01        \n",
              "3300 DS         Ação   0.01        \n",
              "3301 XOne       Ação   0.01        \n",
              "3302 X360       Ação   0.01        \n",
              "3303 3DS        Ação   0.01        \n",
              "3304 PC         Ação   0.01        \n",
              "3305 PSP        Ação   0.01        \n",
              "3306 PSV        Ação   0.01        \n",
              "3307 GBA        Ação   0.01        \n",
              "3308 PS4        Ação   0.01        \n",
              "3309 DS         Ação   0.01        \n",
              "3310 3DS        Ação   0.01        \n",
              "3311 GBA        Ação   0.01        \n",
              "3312 N64        Ação   0.01        \n",
              "3313 PSV        Ação   0.01        "
            ]
          },
          "metadata": {}
        }
      ]
    },
    {
      "cell_type": "code",
      "source": [
        "#FIM"
      ],
      "metadata": {
        "id": "97aWt2TsWLHa"
      },
      "execution_count": 63,
      "outputs": []
    },
    {
      "cell_type": "code",
      "source": [
        "#Ex 3"
      ],
      "metadata": {
        "id": "jtKpLQX8WM9Z"
      },
      "execution_count": 64,
      "outputs": []
    },
    {
      "cell_type": "code",
      "source": [
        "qtdGen<- jogos%>%group_by(Genero)%>%count()"
      ],
      "metadata": {
        "id": "rFSGojF1WOJ4"
      },
      "execution_count": 65,
      "outputs": []
    },
    {
      "cell_type": "code",
      "source": [
        "qtdGen"
      ],
      "metadata": {
        "colab": {
          "base_uri": "https://localhost:8080/",
          "height": 474
        },
        "id": "Z2OVwSC-WPlo",
        "outputId": "144f1eb7-d78b-4a58-c261-6a35de049bb4"
      },
      "execution_count": 66,
      "outputs": [
        {
          "output_type": "display_data",
          "data": {
            "text/html": [
              "<table class=\"dataframe\">\n",
              "<caption>A grouped_df: 12 × 2</caption>\n",
              "<thead>\n",
              "\t<tr><th scope=col>Genero</th><th scope=col>n</th></tr>\n",
              "\t<tr><th scope=col>&lt;chr&gt;</th><th scope=col>&lt;int&gt;</th></tr>\n",
              "</thead>\n",
              "<tbody>\n",
              "\t<tr><td>Ação        </td><td>3313</td></tr>\n",
              "\t<tr><td>Aventura    </td><td>1263</td></tr>\n",
              "\t<tr><td>Corrida     </td><td>1249</td></tr>\n",
              "\t<tr><td>Esportes    </td><td>2346</td></tr>\n",
              "\t<tr><td>Estratégia  </td><td> 681</td></tr>\n",
              "\t<tr><td>Luta        </td><td> 848</td></tr>\n",
              "\t<tr><td>Misc        </td><td>1739</td></tr>\n",
              "\t<tr><td>Plataforma  </td><td> 886</td></tr>\n",
              "\t<tr><td>Puzzle      </td><td> 582</td></tr>\n",
              "\t<tr><td>Role-Playing</td><td>1488</td></tr>\n",
              "\t<tr><td>Simulação   </td><td> 867</td></tr>\n",
              "\t<tr><td>Tiros       </td><td>1310</td></tr>\n",
              "</tbody>\n",
              "</table>\n"
            ],
            "text/markdown": "\nA grouped_df: 12 × 2\n\n| Genero &lt;chr&gt; | n &lt;int&gt; |\n|---|---|\n| Ação         | 3313 |\n| Aventura     | 1263 |\n| Corrida      | 1249 |\n| Esportes     | 2346 |\n| Estratégia   |  681 |\n| Luta         |  848 |\n| Misc         | 1739 |\n| Plataforma   |  886 |\n| Puzzle       |  582 |\n| Role-Playing | 1488 |\n| Simulação    |  867 |\n| Tiros        | 1310 |\n\n",
            "text/latex": "A grouped\\_df: 12 × 2\n\\begin{tabular}{ll}\n Genero & n\\\\\n <chr> & <int>\\\\\n\\hline\n\t Ação         & 3313\\\\\n\t Aventura     & 1263\\\\\n\t Corrida      & 1249\\\\\n\t Esportes     & 2346\\\\\n\t Estratégia   &  681\\\\\n\t Luta         &  848\\\\\n\t Misc         & 1739\\\\\n\t Plataforma   &  886\\\\\n\t Puzzle       &  582\\\\\n\t Role-Playing & 1488\\\\\n\t Simulação    &  867\\\\\n\t Tiros        & 1310\\\\\n\\end{tabular}\n",
            "text/plain": [
              "   Genero       n   \n",
              "1  Ação         3313\n",
              "2  Aventura     1263\n",
              "3  Corrida      1249\n",
              "4  Esportes     2346\n",
              "5  Estratégia    681\n",
              "6  Luta          848\n",
              "7  Misc         1739\n",
              "8  Plataforma    886\n",
              "9  Puzzle        582\n",
              "10 Role-Playing 1488\n",
              "11 Simulação     867\n",
              "12 Tiros        1310"
            ]
          },
          "metadata": {}
        }
      ]
    },
    {
      "cell_type": "code",
      "source": [
        "#FIM"
      ],
      "metadata": {
        "id": "i_wmt2AcWRLy"
      },
      "execution_count": 67,
      "outputs": []
    },
    {
      "cell_type": "code",
      "source": [
        "#Ex 4"
      ],
      "metadata": {
        "id": "K_hV9Rg_WVgK"
      },
      "execution_count": 68,
      "outputs": []
    },
    {
      "cell_type": "code",
      "source": [
        "vendafab<- jogos%>%select(Fabricante,Vendas_EUA, Vendas_Europa, Vendas_Japao, Vendas_Outros, Venda_Global)"
      ],
      "metadata": {
        "id": "Ed2EgDxOWWsb"
      },
      "execution_count": 69,
      "outputs": []
    },
    {
      "cell_type": "code",
      "source": [
        "vendafab%>%group_by(Fabricante)%>%summarize(totalVendas= sum(Vendas_EUA,Vendas_Europa, Vendas_Japao,Vendas_Outros,Venda_Global))"
      ],
      "metadata": {
        "colab": {
          "base_uri": "https://localhost:8080/",
          "height": 1000
        },
        "id": "KWQKsixxWYUP",
        "outputId": "4d473fd5-5a83-4542-a282-7155910fbd37"
      },
      "execution_count": 70,
      "outputs": [
        {
          "output_type": "display_data",
          "data": {
            "text/html": [
              "<table class=\"dataframe\">\n",
              "<caption>A tibble: 579 × 2</caption>\n",
              "<thead>\n",
              "\t<tr><th scope=col>Fabricante</th><th scope=col>totalVendas</th></tr>\n",
              "\t<tr><th scope=col>&lt;chr&gt;</th><th scope=col>&lt;dbl&gt;</th></tr>\n",
              "</thead>\n",
              "<tbody>\n",
              "\t<tr><td>10TACLE Studios             </td><td>   0.22</td></tr>\n",
              "\t<tr><td>1C Company                  </td><td>   0.20</td></tr>\n",
              "\t<tr><td>20th Century Fox Video Games</td><td>   3.87</td></tr>\n",
              "\t<tr><td>2D Boy                      </td><td>   0.08</td></tr>\n",
              "\t<tr><td>3DO                         </td><td>  20.27</td></tr>\n",
              "\t<tr><td>49Games                     </td><td>   0.08</td></tr>\n",
              "\t<tr><td>505 Games                   </td><td> 111.66</td></tr>\n",
              "\t<tr><td>5pb                         </td><td>   1.88</td></tr>\n",
              "\t<tr><td>7G//AMES                    </td><td>   0.14</td></tr>\n",
              "\t<tr><td>989 Sports                  </td><td>   0.75</td></tr>\n",
              "\t<tr><td>989 Studios                 </td><td>  26.62</td></tr>\n",
              "\t<tr><td>Abylight                    </td><td>   0.16</td></tr>\n",
              "\t<tr><td>Acclaim Entertainment       </td><td> 128.15</td></tr>\n",
              "\t<tr><td>Accolade                    </td><td>   3.34</td></tr>\n",
              "\t<tr><td>Ackkstudios                 </td><td>   1.68</td></tr>\n",
              "\t<tr><td>Acquire                     </td><td>   2.15</td></tr>\n",
              "\t<tr><td>Activision                  </td><td>1454.57</td></tr>\n",
              "\t<tr><td>Activision Blizzard         </td><td>   0.96</td></tr>\n",
              "\t<tr><td>Activision Value            </td><td>  13.94</td></tr>\n",
              "\t<tr><td>Adeline Software            </td><td>   0.35</td></tr>\n",
              "\t<tr><td>Aerosoft                    </td><td>   0.06</td></tr>\n",
              "\t<tr><td>Agatsuma Entertainment      </td><td>   0.62</td></tr>\n",
              "\t<tr><td>Agetec                      </td><td>   3.87</td></tr>\n",
              "\t<tr><td>Aksys Games                 </td><td>   0.87</td></tr>\n",
              "\t<tr><td>Alawar Entertainment        </td><td>   0.10</td></tr>\n",
              "\t<tr><td>Alchemist                   </td><td>   5.25</td></tr>\n",
              "\t<tr><td>Alternative Software        </td><td>   0.41</td></tr>\n",
              "\t<tr><td>Altron                      </td><td>   0.14</td></tr>\n",
              "\t<tr><td>Alvion                      </td><td>   0.08</td></tr>\n",
              "\t<tr><td>American Softworks          </td><td>   0.47</td></tr>\n",
              "\t<tr><td>⋮</td><td>⋮</td></tr>\n",
              "\t<tr><td>Video System                          </td><td>  4.35</td></tr>\n",
              "\t<tr><td>Views                                 </td><td>  0.06</td></tr>\n",
              "\t<tr><td>Vir2L Studios                         </td><td>  0.50</td></tr>\n",
              "\t<tr><td>Virgin Interactive                    </td><td> 87.77</td></tr>\n",
              "\t<tr><td>Virtual Play Games                    </td><td>  0.12</td></tr>\n",
              "\t<tr><td>Visco                                 </td><td>  0.04</td></tr>\n",
              "\t<tr><td>Vivendi Games                         </td><td>116.36</td></tr>\n",
              "\t<tr><td>Wanadoo                               </td><td>  1.29</td></tr>\n",
              "\t<tr><td>Warashi                               </td><td>  0.04</td></tr>\n",
              "\t<tr><td>Wargaming.net                         </td><td>  0.58</td></tr>\n",
              "\t<tr><td>Warner Bros. Interactive Entertainment</td><td>307.79</td></tr>\n",
              "\t<tr><td>Warp                                  </td><td>  0.14</td></tr>\n",
              "\t<tr><td>WayForward Technologies               </td><td>  0.11</td></tr>\n",
              "\t<tr><td>Westwood Studios                      </td><td>  3.10</td></tr>\n",
              "\t<tr><td>White Park Bay Software               </td><td>  0.31</td></tr>\n",
              "\t<tr><td>Wizard Video Games                    </td><td>  1.24</td></tr>\n",
              "\t<tr><td>Xicat Interactive                     </td><td>  0.33</td></tr>\n",
              "\t<tr><td>Xing Entertainment                    </td><td>  0.49</td></tr>\n",
              "\t<tr><td>Xplosiv                               </td><td>  3.28</td></tr>\n",
              "\t<tr><td>XS Games                              </td><td>  2.92</td></tr>\n",
              "\t<tr><td>Xseed Games                           </td><td>  1.79</td></tr>\n",
              "\t<tr><td>Yacht Club Games                      </td><td>  0.63</td></tr>\n",
              "\t<tr><td>Yamasa Entertainment                  </td><td>  0.08</td></tr>\n",
              "\t<tr><td>Yeti                                  </td><td>  0.46</td></tr>\n",
              "\t<tr><td>Yuke's                                </td><td>  0.15</td></tr>\n",
              "\t<tr><td>Yumedia                               </td><td>  0.12</td></tr>\n",
              "\t<tr><td>Zenrin                                </td><td>  0.12</td></tr>\n",
              "\t<tr><td>Zoo Digital Publishing                </td><td> 25.76</td></tr>\n",
              "\t<tr><td>Zoo Games                             </td><td>  9.61</td></tr>\n",
              "\t<tr><td>Zushi Games                           </td><td>  3.73</td></tr>\n",
              "</tbody>\n",
              "</table>\n"
            ],
            "text/markdown": "\nA tibble: 579 × 2\n\n| Fabricante &lt;chr&gt; | totalVendas &lt;dbl&gt; |\n|---|---|\n| 10TACLE Studios              |    0.22 |\n| 1C Company                   |    0.20 |\n| 20th Century Fox Video Games |    3.87 |\n| 2D Boy                       |    0.08 |\n| 3DO                          |   20.27 |\n| 49Games                      |    0.08 |\n| 505 Games                    |  111.66 |\n| 5pb                          |    1.88 |\n| 7G//AMES                     |    0.14 |\n| 989 Sports                   |    0.75 |\n| 989 Studios                  |   26.62 |\n| Abylight                     |    0.16 |\n| Acclaim Entertainment        |  128.15 |\n| Accolade                     |    3.34 |\n| Ackkstudios                  |    1.68 |\n| Acquire                      |    2.15 |\n| Activision                   | 1454.57 |\n| Activision Blizzard          |    0.96 |\n| Activision Value             |   13.94 |\n| Adeline Software             |    0.35 |\n| Aerosoft                     |    0.06 |\n| Agatsuma Entertainment       |    0.62 |\n| Agetec                       |    3.87 |\n| Aksys Games                  |    0.87 |\n| Alawar Entertainment         |    0.10 |\n| Alchemist                    |    5.25 |\n| Alternative Software         |    0.41 |\n| Altron                       |    0.14 |\n| Alvion                       |    0.08 |\n| American Softworks           |    0.47 |\n| ⋮ | ⋮ |\n| Video System                           |   4.35 |\n| Views                                  |   0.06 |\n| Vir2L Studios                          |   0.50 |\n| Virgin Interactive                     |  87.77 |\n| Virtual Play Games                     |   0.12 |\n| Visco                                  |   0.04 |\n| Vivendi Games                          | 116.36 |\n| Wanadoo                                |   1.29 |\n| Warashi                                |   0.04 |\n| Wargaming.net                          |   0.58 |\n| Warner Bros. Interactive Entertainment | 307.79 |\n| Warp                                   |   0.14 |\n| WayForward Technologies                |   0.11 |\n| Westwood Studios                       |   3.10 |\n| White Park Bay Software                |   0.31 |\n| Wizard Video Games                     |   1.24 |\n| Xicat Interactive                      |   0.33 |\n| Xing Entertainment                     |   0.49 |\n| Xplosiv                                |   3.28 |\n| XS Games                               |   2.92 |\n| Xseed Games                            |   1.79 |\n| Yacht Club Games                       |   0.63 |\n| Yamasa Entertainment                   |   0.08 |\n| Yeti                                   |   0.46 |\n| Yuke's                                 |   0.15 |\n| Yumedia                                |   0.12 |\n| Zenrin                                 |   0.12 |\n| Zoo Digital Publishing                 |  25.76 |\n| Zoo Games                              |   9.61 |\n| Zushi Games                            |   3.73 |\n\n",
            "text/latex": "A tibble: 579 × 2\n\\begin{tabular}{ll}\n Fabricante & totalVendas\\\\\n <chr> & <dbl>\\\\\n\\hline\n\t 10TACLE Studios              &    0.22\\\\\n\t 1C Company                   &    0.20\\\\\n\t 20th Century Fox Video Games &    3.87\\\\\n\t 2D Boy                       &    0.08\\\\\n\t 3DO                          &   20.27\\\\\n\t 49Games                      &    0.08\\\\\n\t 505 Games                    &  111.66\\\\\n\t 5pb                          &    1.88\\\\\n\t 7G//AMES                     &    0.14\\\\\n\t 989 Sports                   &    0.75\\\\\n\t 989 Studios                  &   26.62\\\\\n\t Abylight                     &    0.16\\\\\n\t Acclaim Entertainment        &  128.15\\\\\n\t Accolade                     &    3.34\\\\\n\t Ackkstudios                  &    1.68\\\\\n\t Acquire                      &    2.15\\\\\n\t Activision                   & 1454.57\\\\\n\t Activision Blizzard          &    0.96\\\\\n\t Activision Value             &   13.94\\\\\n\t Adeline Software             &    0.35\\\\\n\t Aerosoft                     &    0.06\\\\\n\t Agatsuma Entertainment       &    0.62\\\\\n\t Agetec                       &    3.87\\\\\n\t Aksys Games                  &    0.87\\\\\n\t Alawar Entertainment         &    0.10\\\\\n\t Alchemist                    &    5.25\\\\\n\t Alternative Software         &    0.41\\\\\n\t Altron                       &    0.14\\\\\n\t Alvion                       &    0.08\\\\\n\t American Softworks           &    0.47\\\\\n\t ⋮ & ⋮\\\\\n\t Video System                           &   4.35\\\\\n\t Views                                  &   0.06\\\\\n\t Vir2L Studios                          &   0.50\\\\\n\t Virgin Interactive                     &  87.77\\\\\n\t Virtual Play Games                     &   0.12\\\\\n\t Visco                                  &   0.04\\\\\n\t Vivendi Games                          & 116.36\\\\\n\t Wanadoo                                &   1.29\\\\\n\t Warashi                                &   0.04\\\\\n\t Wargaming.net                          &   0.58\\\\\n\t Warner Bros. Interactive Entertainment & 307.79\\\\\n\t Warp                                   &   0.14\\\\\n\t WayForward Technologies                &   0.11\\\\\n\t Westwood Studios                       &   3.10\\\\\n\t White Park Bay Software                &   0.31\\\\\n\t Wizard Video Games                     &   1.24\\\\\n\t Xicat Interactive                      &   0.33\\\\\n\t Xing Entertainment                     &   0.49\\\\\n\t Xplosiv                                &   3.28\\\\\n\t XS Games                               &   2.92\\\\\n\t Xseed Games                            &   1.79\\\\\n\t Yacht Club Games                       &   0.63\\\\\n\t Yamasa Entertainment                   &   0.08\\\\\n\t Yeti                                   &   0.46\\\\\n\t Yuke's                                 &   0.15\\\\\n\t Yumedia                                &   0.12\\\\\n\t Zenrin                                 &   0.12\\\\\n\t Zoo Digital Publishing                 &  25.76\\\\\n\t Zoo Games                              &   9.61\\\\\n\t Zushi Games                            &   3.73\\\\\n\\end{tabular}\n",
            "text/plain": [
              "    Fabricante                             totalVendas\n",
              "1   10TACLE Studios                           0.22    \n",
              "2   1C Company                                0.20    \n",
              "3   20th Century Fox Video Games              3.87    \n",
              "4   2D Boy                                    0.08    \n",
              "5   3DO                                      20.27    \n",
              "6   49Games                                   0.08    \n",
              "7   505 Games                               111.66    \n",
              "8   5pb                                       1.88    \n",
              "9   7G//AMES                                  0.14    \n",
              "10  989 Sports                                0.75    \n",
              "11  989 Studios                              26.62    \n",
              "12  Abylight                                  0.16    \n",
              "13  Acclaim Entertainment                   128.15    \n",
              "14  Accolade                                  3.34    \n",
              "15  Ackkstudios                               1.68    \n",
              "16  Acquire                                   2.15    \n",
              "17  Activision                             1454.57    \n",
              "18  Activision Blizzard                       0.96    \n",
              "19  Activision Value                         13.94    \n",
              "20  Adeline Software                          0.35    \n",
              "21  Aerosoft                                  0.06    \n",
              "22  Agatsuma Entertainment                    0.62    \n",
              "23  Agetec                                    3.87    \n",
              "24  Aksys Games                               0.87    \n",
              "25  Alawar Entertainment                      0.10    \n",
              "26  Alchemist                                 5.25    \n",
              "27  Alternative Software                      0.41    \n",
              "28  Altron                                    0.14    \n",
              "29  Alvion                                    0.08    \n",
              "30  American Softworks                        0.47    \n",
              "⋮   ⋮                                      ⋮          \n",
              "550 Video System                             4.35     \n",
              "551 Views                                    0.06     \n",
              "552 Vir2L Studios                            0.50     \n",
              "553 Virgin Interactive                      87.77     \n",
              "554 Virtual Play Games                       0.12     \n",
              "555 Visco                                    0.04     \n",
              "556 Vivendi Games                          116.36     \n",
              "557 Wanadoo                                  1.29     \n",
              "558 Warashi                                  0.04     \n",
              "559 Wargaming.net                            0.58     \n",
              "560 Warner Bros. Interactive Entertainment 307.79     \n",
              "561 Warp                                     0.14     \n",
              "562 WayForward Technologies                  0.11     \n",
              "563 Westwood Studios                         3.10     \n",
              "564 White Park Bay Software                  0.31     \n",
              "565 Wizard Video Games                       1.24     \n",
              "566 Xicat Interactive                        0.33     \n",
              "567 Xing Entertainment                       0.49     \n",
              "568 Xplosiv                                  3.28     \n",
              "569 XS Games                                 2.92     \n",
              "570 Xseed Games                              1.79     \n",
              "571 Yacht Club Games                         0.63     \n",
              "572 Yamasa Entertainment                     0.08     \n",
              "573 Yeti                                     0.46     \n",
              "574 Yuke's                                   0.15     \n",
              "575 Yumedia                                  0.12     \n",
              "576 Zenrin                                   0.12     \n",
              "577 Zoo Digital Publishing                  25.76     \n",
              "578 Zoo Games                                9.61     \n",
              "579 Zushi Games                              3.73     "
            ]
          },
          "metadata": {}
        }
      ]
    },
    {
      "cell_type": "code",
      "source": [
        "#FIM"
      ],
      "metadata": {
        "id": "4Fdh2kEsWZ19"
      },
      "execution_count": 71,
      "outputs": []
    },
    {
      "cell_type": "code",
      "source": [
        "#Ex 5"
      ],
      "metadata": {
        "id": "-eqhuRKTWgrP"
      },
      "execution_count": 72,
      "outputs": []
    },
    {
      "cell_type": "code",
      "source": [
        "japao<- jogos%>%select(Genero,Vendas_Japao)"
      ],
      "metadata": {
        "id": "iQ2CZdsAXdzN"
      },
      "execution_count": 73,
      "outputs": []
    },
    {
      "cell_type": "code",
      "source": [
        "maior<-japao%>%group_by(Genero)%>%summarize(vendas=mean(Vendas_Japao))"
      ],
      "metadata": {
        "id": "TK7k0uQwXuwo"
      },
      "execution_count": 74,
      "outputs": []
    },
    {
      "cell_type": "code",
      "source": [
        "r<-maior%>%arrange(desc(vendas))"
      ],
      "metadata": {
        "id": "I_-YhTWPc5z_"
      },
      "execution_count": 92,
      "outputs": []
    },
    {
      "cell_type": "code",
      "source": [
        "r[c(1),c(1,2)]"
      ],
      "metadata": {
        "colab": {
          "base_uri": "https://localhost:8080/",
          "height": 129
        },
        "id": "-3diVEhQzFsq",
        "outputId": "de542851-5fb7-435a-e742-11e49efed65c"
      },
      "execution_count": 93,
      "outputs": [
        {
          "output_type": "display_data",
          "data": {
            "text/html": [
              "<table class=\"dataframe\">\n",
              "<caption>A tibble: 1 × 2</caption>\n",
              "<thead>\n",
              "\t<tr><th scope=col>Genero</th><th scope=col>vendas</th></tr>\n",
              "\t<tr><th scope=col>&lt;chr&gt;</th><th scope=col>&lt;dbl&gt;</th></tr>\n",
              "</thead>\n",
              "<tbody>\n",
              "\t<tr><td>Role-Playing</td><td>0.2367675</td></tr>\n",
              "</tbody>\n",
              "</table>\n"
            ],
            "text/markdown": "\nA tibble: 1 × 2\n\n| Genero &lt;chr&gt; | vendas &lt;dbl&gt; |\n|---|---|\n| Role-Playing | 0.2367675 |\n\n",
            "text/latex": "A tibble: 1 × 2\n\\begin{tabular}{ll}\n Genero & vendas\\\\\n <chr> & <dbl>\\\\\n\\hline\n\t Role-Playing & 0.2367675\\\\\n\\end{tabular}\n",
            "text/plain": [
              "  Genero       vendas   \n",
              "1 Role-Playing 0.2367675"
            ]
          },
          "metadata": {}
        }
      ]
    },
    {
      "cell_type": "code",
      "source": [
        "#FIM"
      ],
      "metadata": {
        "id": "jKuVecjMmKEv"
      },
      "execution_count": 76,
      "outputs": []
    },
    {
      "cell_type": "code",
      "source": [
        "#Ex 6"
      ],
      "metadata": {
        "id": "F5fAH0UOmtaP"
      },
      "execution_count": 77,
      "outputs": []
    },
    {
      "cell_type": "code",
      "source": [
        "MvendaGlobal<- jogos%>%select(Fabricante,Venda_Global)"
      ],
      "metadata": {
        "id": "NETjP9cUoENT"
      },
      "execution_count": 78,
      "outputs": []
    },
    {
      "cell_type": "code",
      "source": [
        "FabGlobal<- MvendaGlobal%>%group_by(Fabricante)%>%summarize(venda = sum(Venda_Global))"
      ],
      "metadata": {
        "id": "vZ5O9T3SoN6r"
      },
      "execution_count": 79,
      "outputs": []
    },
    {
      "cell_type": "code",
      "source": [
        "r<-FabGlobal%>%arrange(desc(venda))"
      ],
      "metadata": {
        "id": "FOrv2_TioYrw"
      },
      "execution_count": 94,
      "outputs": []
    },
    {
      "cell_type": "code",
      "source": [
        "r[c(1),c(1,2)]"
      ],
      "metadata": {
        "colab": {
          "base_uri": "https://localhost:8080/",
          "height": 129
        },
        "id": "NHprYAsXzZg_",
        "outputId": "a57d9ebd-2cf7-447e-844e-86faf65b1b73"
      },
      "execution_count": 98,
      "outputs": [
        {
          "output_type": "display_data",
          "data": {
            "text/html": [
              "<table class=\"dataframe\">\n",
              "<caption>A tibble: 1 × 2</caption>\n",
              "<thead>\n",
              "\t<tr><th scope=col>Fabricante</th><th scope=col>venda</th></tr>\n",
              "\t<tr><th scope=col>&lt;chr&gt;</th><th scope=col>&lt;dbl&gt;</th></tr>\n",
              "</thead>\n",
              "<tbody>\n",
              "\t<tr><td>Nintendo</td><td>1786.56</td></tr>\n",
              "</tbody>\n",
              "</table>\n"
            ],
            "text/markdown": "\nA tibble: 1 × 2\n\n| Fabricante &lt;chr&gt; | venda &lt;dbl&gt; |\n|---|---|\n| Nintendo | 1786.56 |\n\n",
            "text/latex": "A tibble: 1 × 2\n\\begin{tabular}{ll}\n Fabricante & venda\\\\\n <chr> & <dbl>\\\\\n\\hline\n\t Nintendo & 1786.56\\\\\n\\end{tabular}\n",
            "text/plain": [
              "  Fabricante venda  \n",
              "1 Nintendo   1786.56"
            ]
          },
          "metadata": {}
        }
      ]
    },
    {
      "cell_type": "code",
      "source": [
        "#FIM"
      ],
      "metadata": {
        "id": "O9Zs98BWpuWA"
      },
      "execution_count": 81,
      "outputs": []
    },
    {
      "cell_type": "code",
      "source": [
        "str(jogos)"
      ],
      "metadata": {
        "colab": {
          "base_uri": "https://localhost:8080/"
        },
        "id": "moYS0rbNqelV",
        "outputId": "3a3ee5eb-fadd-41b9-e882-2602464c2a95"
      },
      "execution_count": 82,
      "outputs": [
        {
          "output_type": "stream",
          "name": "stdout",
          "text": [
            "'data.frame':\t16572 obs. of  10 variables:\n",
            " $ Nome         : chr  \"Wii Sports\" \"Super Mario Bros.\" \"Mario Kart Wii\" \"Wii Sports Resort\" ...\n",
            " $ Plataforma   : chr  \"Wii\" \"NES\" \"Wii\" \"Wii\" ...\n",
            " $ Ano          : chr  \"2006\" \"1985\" \"2008\" \"2009\" ...\n",
            " $ Genero       : chr  \"Esportes\" \"Plataforma\" \"Corrida\" \"Esportes\" ...\n",
            " $ Fabricante   : chr  \"Nintendo\" \"Nintendo\" \"Nintendo\" \"Nintendo\" ...\n",
            " $ Vendas_EUA   : num  41.5 29.1 15.8 15.8 11.3 ...\n",
            " $ Vendas_Europa: num  29.02 3.58 12.88 11.01 8.89 ...\n",
            " $ Vendas_Japao : num  3.77 6.81 3.79 3.28 10.22 ...\n",
            " $ Vendas_Outros: num  8.46 0.77 3.31 2.96 1 0.58 2.9 2.85 2.26 0.47 ...\n",
            " $ Venda_Global : num  82.7 40.2 35.8 33 31.4 ...\n"
          ]
        }
      ]
    },
    {
      "cell_type": "code",
      "source": [
        "#Ex 7"
      ],
      "metadata": {
        "id": "cjU7mJROq86w"
      },
      "execution_count": 83,
      "outputs": []
    },
    {
      "cell_type": "code",
      "source": [
        "#Pt 1"
      ],
      "metadata": {
        "id": "Kla8gf6sroSq"
      },
      "execution_count": 84,
      "outputs": []
    },
    {
      "cell_type": "code",
      "source": [
        "mAno<- jogos%>%select(Ano)"
      ],
      "metadata": {
        "id": "fRHoqr89qlsz"
      },
      "execution_count": 85,
      "outputs": []
    },
    {
      "cell_type": "code",
      "source": [
        "mAno%>%group_by(Ano)%>%count()"
      ],
      "metadata": {
        "colab": {
          "base_uri": "https://localhost:8080/",
          "height": 1000
        },
        "id": "dhPi4L8Bq2K0",
        "outputId": "f186917c-f3f5-44cb-e6c8-95ab4c6ccd11"
      },
      "execution_count": 106,
      "outputs": [
        {
          "output_type": "display_data",
          "data": {
            "text/html": [
              "<table class=\"dataframe\">\n",
              "<caption>A grouped_df: 40 × 2</caption>\n",
              "<thead>\n",
              "\t<tr><th scope=col>Ano</th><th scope=col>n</th></tr>\n",
              "\t<tr><th scope=col>&lt;chr&gt;</th><th scope=col>&lt;int&gt;</th></tr>\n",
              "</thead>\n",
              "<tbody>\n",
              "\t<tr><td>1980</td><td>   9</td></tr>\n",
              "\t<tr><td>1981</td><td>  46</td></tr>\n",
              "\t<tr><td>1982</td><td>  36</td></tr>\n",
              "\t<tr><td>1983</td><td>  17</td></tr>\n",
              "\t<tr><td>1984</td><td>  14</td></tr>\n",
              "\t<tr><td>1985</td><td>  14</td></tr>\n",
              "\t<tr><td>1986</td><td>  21</td></tr>\n",
              "\t<tr><td>1987</td><td>  16</td></tr>\n",
              "\t<tr><td>1988</td><td>  15</td></tr>\n",
              "\t<tr><td>1989</td><td>  17</td></tr>\n",
              "\t<tr><td>1990</td><td>  16</td></tr>\n",
              "\t<tr><td>1991</td><td>  41</td></tr>\n",
              "\t<tr><td>1992</td><td>  43</td></tr>\n",
              "\t<tr><td>1993</td><td>  60</td></tr>\n",
              "\t<tr><td>1994</td><td> 121</td></tr>\n",
              "\t<tr><td>1995</td><td> 219</td></tr>\n",
              "\t<tr><td>1996</td><td> 263</td></tr>\n",
              "\t<tr><td>1997</td><td> 289</td></tr>\n",
              "\t<tr><td>1998</td><td> 379</td></tr>\n",
              "\t<tr><td>1999</td><td> 338</td></tr>\n",
              "\t<tr><td>2000</td><td> 349</td></tr>\n",
              "\t<tr><td>2001</td><td> 482</td></tr>\n",
              "\t<tr><td>2002</td><td> 829</td></tr>\n",
              "\t<tr><td>2003</td><td> 775</td></tr>\n",
              "\t<tr><td>2004</td><td> 763</td></tr>\n",
              "\t<tr><td>2005</td><td> 941</td></tr>\n",
              "\t<tr><td>2006</td><td>1008</td></tr>\n",
              "\t<tr><td>2007</td><td>1201</td></tr>\n",
              "\t<tr><td>2008</td><td>1428</td></tr>\n",
              "\t<tr><td>2009</td><td>1429</td></tr>\n",
              "\t<tr><td>2010</td><td>1257</td></tr>\n",
              "\t<tr><td>2011</td><td>1136</td></tr>\n",
              "\t<tr><td>2012</td><td> 652</td></tr>\n",
              "\t<tr><td>2013</td><td> 543</td></tr>\n",
              "\t<tr><td>2014</td><td> 578</td></tr>\n",
              "\t<tr><td>2015</td><td> 608</td></tr>\n",
              "\t<tr><td>2016</td><td> 344</td></tr>\n",
              "\t<tr><td>2017</td><td>   3</td></tr>\n",
              "\t<tr><td>2020</td><td>   1</td></tr>\n",
              "\t<tr><td>N/A </td><td> 271</td></tr>\n",
              "</tbody>\n",
              "</table>\n"
            ],
            "text/markdown": "\nA grouped_df: 40 × 2\n\n| Ano &lt;chr&gt; | n &lt;int&gt; |\n|---|---|\n| 1980 |    9 |\n| 1981 |   46 |\n| 1982 |   36 |\n| 1983 |   17 |\n| 1984 |   14 |\n| 1985 |   14 |\n| 1986 |   21 |\n| 1987 |   16 |\n| 1988 |   15 |\n| 1989 |   17 |\n| 1990 |   16 |\n| 1991 |   41 |\n| 1992 |   43 |\n| 1993 |   60 |\n| 1994 |  121 |\n| 1995 |  219 |\n| 1996 |  263 |\n| 1997 |  289 |\n| 1998 |  379 |\n| 1999 |  338 |\n| 2000 |  349 |\n| 2001 |  482 |\n| 2002 |  829 |\n| 2003 |  775 |\n| 2004 |  763 |\n| 2005 |  941 |\n| 2006 | 1008 |\n| 2007 | 1201 |\n| 2008 | 1428 |\n| 2009 | 1429 |\n| 2010 | 1257 |\n| 2011 | 1136 |\n| 2012 |  652 |\n| 2013 |  543 |\n| 2014 |  578 |\n| 2015 |  608 |\n| 2016 |  344 |\n| 2017 |    3 |\n| 2020 |    1 |\n| N/A  |  271 |\n\n",
            "text/latex": "A grouped\\_df: 40 × 2\n\\begin{tabular}{ll}\n Ano & n\\\\\n <chr> & <int>\\\\\n\\hline\n\t 1980 &    9\\\\\n\t 1981 &   46\\\\\n\t 1982 &   36\\\\\n\t 1983 &   17\\\\\n\t 1984 &   14\\\\\n\t 1985 &   14\\\\\n\t 1986 &   21\\\\\n\t 1987 &   16\\\\\n\t 1988 &   15\\\\\n\t 1989 &   17\\\\\n\t 1990 &   16\\\\\n\t 1991 &   41\\\\\n\t 1992 &   43\\\\\n\t 1993 &   60\\\\\n\t 1994 &  121\\\\\n\t 1995 &  219\\\\\n\t 1996 &  263\\\\\n\t 1997 &  289\\\\\n\t 1998 &  379\\\\\n\t 1999 &  338\\\\\n\t 2000 &  349\\\\\n\t 2001 &  482\\\\\n\t 2002 &  829\\\\\n\t 2003 &  775\\\\\n\t 2004 &  763\\\\\n\t 2005 &  941\\\\\n\t 2006 & 1008\\\\\n\t 2007 & 1201\\\\\n\t 2008 & 1428\\\\\n\t 2009 & 1429\\\\\n\t 2010 & 1257\\\\\n\t 2011 & 1136\\\\\n\t 2012 &  652\\\\\n\t 2013 &  543\\\\\n\t 2014 &  578\\\\\n\t 2015 &  608\\\\\n\t 2016 &  344\\\\\n\t 2017 &    3\\\\\n\t 2020 &    1\\\\\n\t N/A  &  271\\\\\n\\end{tabular}\n",
            "text/plain": [
              "   Ano  n   \n",
              "1  1980    9\n",
              "2  1981   46\n",
              "3  1982   36\n",
              "4  1983   17\n",
              "5  1984   14\n",
              "6  1985   14\n",
              "7  1986   21\n",
              "8  1987   16\n",
              "9  1988   15\n",
              "10 1989   17\n",
              "11 1990   16\n",
              "12 1991   41\n",
              "13 1992   43\n",
              "14 1993   60\n",
              "15 1994  121\n",
              "16 1995  219\n",
              "17 1996  263\n",
              "18 1997  289\n",
              "19 1998  379\n",
              "20 1999  338\n",
              "21 2000  349\n",
              "22 2001  482\n",
              "23 2002  829\n",
              "24 2003  775\n",
              "25 2004  763\n",
              "26 2005  941\n",
              "27 2006 1008\n",
              "28 2007 1201\n",
              "29 2008 1428\n",
              "30 2009 1429\n",
              "31 2010 1257\n",
              "32 2011 1136\n",
              "33 2012  652\n",
              "34 2013  543\n",
              "35 2014  578\n",
              "36 2015  608\n",
              "37 2016  344\n",
              "38 2017    3\n",
              "39 2020    1\n",
              "40 N/A   271"
            ]
          },
          "metadata": {}
        }
      ]
    },
    {
      "cell_type": "code",
      "source": [
        "#Pt 2"
      ],
      "metadata": {
        "id": "YnrTTnzorQnm"
      },
      "execution_count": 87,
      "outputs": []
    },
    {
      "cell_type": "code",
      "source": [
        "r<-mAno%>%group_by(Ano)%>%count()"
      ],
      "metadata": {
        "id": "Ahkefgoo02Zz"
      },
      "execution_count": 115,
      "outputs": []
    },
    {
      "cell_type": "code",
      "source": [
        "r<-r%>%arrange(desc(n))"
      ],
      "metadata": {
        "id": "NdiZGkCpN9EC"
      },
      "execution_count": 116,
      "outputs": []
    },
    {
      "cell_type": "code",
      "source": [
        "r[c(1),c(1,2)]"
      ],
      "metadata": {
        "colab": {
          "base_uri": "https://localhost:8080/",
          "height": 147
        },
        "id": "uhX1NiCPz-WR",
        "outputId": "b7fccc53-1b00-4af6-8081-c453ed75cb44"
      },
      "execution_count": 117,
      "outputs": [
        {
          "output_type": "display_data",
          "data": {
            "text/html": [
              "<table class=\"dataframe\">\n",
              "<caption>A grouped_df: 1 × 2</caption>\n",
              "<thead>\n",
              "\t<tr><th scope=col>Ano</th><th scope=col>n</th></tr>\n",
              "\t<tr><th scope=col>&lt;chr&gt;</th><th scope=col>&lt;int&gt;</th></tr>\n",
              "</thead>\n",
              "<tbody>\n",
              "\t<tr><td>2009</td><td>1429</td></tr>\n",
              "</tbody>\n",
              "</table>\n"
            ],
            "text/markdown": "\nA grouped_df: 1 × 2\n\n| Ano &lt;chr&gt; | n &lt;int&gt; |\n|---|---|\n| 2009 | 1429 |\n\n",
            "text/latex": "A grouped\\_df: 1 × 2\n\\begin{tabular}{ll}\n Ano & n\\\\\n <chr> & <int>\\\\\n\\hline\n\t 2009 & 1429\\\\\n\\end{tabular}\n",
            "text/plain": [
              "  Ano  n   \n",
              "1 2009 1429"
            ]
          },
          "metadata": {}
        }
      ]
    },
    {
      "cell_type": "code",
      "source": [
        "#Pt 3"
      ],
      "metadata": {
        "id": "v7vB3HFq1NPs"
      },
      "execution_count": 118,
      "outputs": []
    },
    {
      "cell_type": "code",
      "source": [
        "maioria<- jogos%>%select(Ano,Genero)%>%filter(Ano == \"2009\")%>%count(Genero)"
      ],
      "metadata": {
        "id": "0x5_b1pO1x4_"
      },
      "execution_count": 122,
      "outputs": []
    },
    {
      "cell_type": "code",
      "source": [
        "r<-maioria%>%arrange(desc(n))"
      ],
      "metadata": {
        "id": "WuQVzAoP2xlJ"
      },
      "execution_count": 125,
      "outputs": []
    },
    {
      "cell_type": "code",
      "source": [
        "r[c(1),c(1,2)]"
      ],
      "metadata": {
        "colab": {
          "base_uri": "https://localhost:8080/",
          "height": 129
        },
        "id": "aB32ApFO3AOh",
        "outputId": "bdf8333c-3e66-4471-870b-01347de3d6c0"
      },
      "execution_count": 128,
      "outputs": [
        {
          "output_type": "display_data",
          "data": {
            "text/html": [
              "<table class=\"dataframe\">\n",
              "<caption>A data.frame: 1 × 2</caption>\n",
              "<thead>\n",
              "\t<tr><th></th><th scope=col>Genero</th><th scope=col>n</th></tr>\n",
              "\t<tr><th></th><th scope=col>&lt;chr&gt;</th><th scope=col>&lt;int&gt;</th></tr>\n",
              "</thead>\n",
              "<tbody>\n",
              "\t<tr><th scope=row>1</th><td>Ação</td><td>272</td></tr>\n",
              "</tbody>\n",
              "</table>\n"
            ],
            "text/markdown": "\nA data.frame: 1 × 2\n\n| <!--/--> | Genero &lt;chr&gt; | n &lt;int&gt; |\n|---|---|---|\n| 1 | Ação | 272 |\n\n",
            "text/latex": "A data.frame: 1 × 2\n\\begin{tabular}{r|ll}\n  & Genero & n\\\\\n  & <chr> & <int>\\\\\n\\hline\n\t1 & Ação & 272\\\\\n\\end{tabular}\n",
            "text/plain": [
              "  Genero n  \n",
              "1 Ação   272"
            ]
          },
          "metadata": {}
        }
      ]
    },
    {
      "cell_type": "code",
      "source": [
        "#FIM"
      ],
      "metadata": {
        "id": "5SXzp7gE4qkz"
      },
      "execution_count": 130,
      "outputs": []
    },
    {
      "cell_type": "code",
      "source": [
        "str(jogos)"
      ],
      "metadata": {
        "colab": {
          "base_uri": "https://localhost:8080/"
        },
        "id": "MZH96kEU4swQ",
        "outputId": "10f784c8-623a-4acf-eb24-e370243a9fac"
      },
      "execution_count": 131,
      "outputs": [
        {
          "output_type": "stream",
          "name": "stdout",
          "text": [
            "'data.frame':\t16572 obs. of  10 variables:\n",
            " $ Nome         : chr  \"Wii Sports\" \"Super Mario Bros.\" \"Mario Kart Wii\" \"Wii Sports Resort\" ...\n",
            " $ Plataforma   : chr  \"Wii\" \"NES\" \"Wii\" \"Wii\" ...\n",
            " $ Ano          : chr  \"2006\" \"1985\" \"2008\" \"2009\" ...\n",
            " $ Genero       : chr  \"Esportes\" \"Plataforma\" \"Corrida\" \"Esportes\" ...\n",
            " $ Fabricante   : chr  \"Nintendo\" \"Nintendo\" \"Nintendo\" \"Nintendo\" ...\n",
            " $ Vendas_EUA   : num  41.5 29.1 15.8 15.8 11.3 ...\n",
            " $ Vendas_Europa: num  29.02 3.58 12.88 11.01 8.89 ...\n",
            " $ Vendas_Japao : num  3.77 6.81 3.79 3.28 10.22 ...\n",
            " $ Vendas_Outros: num  8.46 0.77 3.31 2.96 1 0.58 2.9 2.85 2.26 0.47 ...\n",
            " $ Venda_Global : num  82.7 40.2 35.8 33 31.4 ...\n"
          ]
        }
      ]
    },
    {
      "cell_type": "code",
      "source": [
        "#Ex 9"
      ],
      "metadata": {
        "id": "w0gLsmyR3gwZ"
      },
      "execution_count": 129,
      "outputs": []
    },
    {
      "cell_type": "code",
      "source": [
        "Europa<- jogos%>%select(Nome,Vendas_Europa)"
      ],
      "metadata": {
        "id": "Lp0HqYXA3qpE"
      },
      "execution_count": 132,
      "outputs": []
    },
    {
      "cell_type": "code",
      "source": [
        "r<-Europa%>%arrange(desc(Vendas_Europa))"
      ],
      "metadata": {
        "id": "pulLefdV45wU"
      },
      "execution_count": 134,
      "outputs": []
    },
    {
      "cell_type": "code",
      "source": [
        "r[c(1),c(1,2)]"
      ],
      "metadata": {
        "colab": {
          "base_uri": "https://localhost:8080/",
          "height": 129
        },
        "id": "EbCkfH125Bbx",
        "outputId": "42b868df-892a-4298-f1a2-42101d1adea2"
      },
      "execution_count": 135,
      "outputs": [
        {
          "output_type": "display_data",
          "data": {
            "text/html": [
              "<table class=\"dataframe\">\n",
              "<caption>A data.frame: 1 × 2</caption>\n",
              "<thead>\n",
              "\t<tr><th></th><th scope=col>Nome</th><th scope=col>Vendas_Europa</th></tr>\n",
              "\t<tr><th></th><th scope=col>&lt;chr&gt;</th><th scope=col>&lt;dbl&gt;</th></tr>\n",
              "</thead>\n",
              "<tbody>\n",
              "\t<tr><th scope=row>1</th><td>Wii Sports</td><td>29.02</td></tr>\n",
              "</tbody>\n",
              "</table>\n"
            ],
            "text/markdown": "\nA data.frame: 1 × 2\n\n| <!--/--> | Nome &lt;chr&gt; | Vendas_Europa &lt;dbl&gt; |\n|---|---|---|\n| 1 | Wii Sports | 29.02 |\n\n",
            "text/latex": "A data.frame: 1 × 2\n\\begin{tabular}{r|ll}\n  & Nome & Vendas\\_Europa\\\\\n  & <chr> & <dbl>\\\\\n\\hline\n\t1 & Wii Sports & 29.02\\\\\n\\end{tabular}\n",
            "text/plain": [
              "  Nome       Vendas_Europa\n",
              "1 Wii Sports 29.02        "
            ]
          },
          "metadata": {}
        }
      ]
    },
    {
      "cell_type": "code",
      "source": [
        "#FIM"
      ],
      "metadata": {
        "id": "hCF2GLM85MP8"
      },
      "execution_count": null,
      "outputs": []
    }
  ]
}